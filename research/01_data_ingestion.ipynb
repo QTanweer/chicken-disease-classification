{
 "cells": [
  {
   "cell_type": "code",
   "execution_count": 28,
   "metadata": {},
   "outputs": [
    {
     "data": {
      "text/plain": [
       "'d:\\\\Projects\\\\chicken-disease-classification'"
      ]
     },
     "execution_count": 28,
     "metadata": {},
     "output_type": "execute_result"
    }
   ],
   "source": [
    "%pwd"
   ]
  },
  {
   "cell_type": "markdown",
   "metadata": {},
   "source": [
    "Incase the pwd is not the home folder, change the directory to home folder\n",
    "import os\n",
    "os.chdir(\"../\")"
   ]
  },
  {
   "cell_type": "code",
   "execution_count": 29,
   "metadata": {},
   "outputs": [],
   "source": [
    "from dataclasses import dataclass\n",
    "from pathlib import Path\n",
    "\n",
    "@dataclass(frozen=True)\n",
    "class DataIngestionConfig:\n",
    "    root_dir: Path\n",
    "    source_URL: str\n",
    "    local_data_file: Path\n",
    "    unzip_dir: Path\n"
   ]
  },
  {
   "cell_type": "code",
   "execution_count": 30,
   "metadata": {},
   "outputs": [],
   "source": [
    "from cnnClassifier.constants import *\n",
    "from cnnClassifier.utils.common import read_yaml, create_directories"
   ]
  },
  {
   "cell_type": "code",
   "execution_count": 31,
   "metadata": {},
   "outputs": [],
   "source": [
    "from cnnClassifier.constants import *\n",
    "from cnnClassifier.utils.common import read_yaml, create_directories\n",
    "from pathlib import Path\n",
    "\n",
    "class ConfiguratonManager:\n",
    "    def __init__(\n",
    "            self,\n",
    "            config_filepath = CONFIG_FILE_PATH,\n",
    "            params_filepath = PARAMS_FILE_PATH,\n",
    "            ):\n",
    "        print(\"Configuration Manager Initiated\")\n",
    "        # print(f\"Config File Path: {config_filepath}, with dtype {type(config_filepath)}\")\n",
    "        # print(f\"Params File Path: {params_filepath} with dtype {type(params_filepath)}\")\n",
    "        self.configs = read_yaml(config_filepath)\n",
    "        self.params = read_yaml(params_filepath)\n",
    "\n",
    "        # print(f\"Configs: {self.configs}\")\n",
    "        create_directories([self.configs.artifacts_root])\n",
    "\n",
    "    def get_data_ingestion_config(self) -> DataIngestionConfig:\n",
    "        config = self.configs.data_ingestion\n",
    "\n",
    "        create_directories([config.root_dir])\n",
    "\n",
    "        return DataIngestionConfig(\n",
    "            root_dir = Path(config.root_dir),\n",
    "            source_URL = config.source_URL,\n",
    "            local_data_file = config.local_data_file,\n",
    "            unzip_dir = config.unzip_dir\n",
    "        )\n",
    "\n",
    "# config_dummy = ConfiguratonManager()\n"
   ]
  },
  {
   "cell_type": "code",
   "execution_count": 32,
   "metadata": {},
   "outputs": [],
   "source": [
    "import os\n",
    "import urllib.request as request\n",
    "from zipfile import ZipFile\n",
    "from cnnClassifier import logger\n",
    "from cnnClassifier.utils.common import get_size"
   ]
  },
  {
   "cell_type": "code",
   "execution_count": 33,
   "metadata": {},
   "outputs": [],
   "source": [
    "class DataIngestion:\n",
    "    def __init__(self, config: DataIngestionConfig):\n",
    "        self.config = config\n",
    "\n",
    "    def download_file(self):\n",
    "        if not os.path.exists(self.config.local_data_file):\n",
    "            filename, headers = request.urlretrieve(\n",
    "                url = self.config.source_URL,\n",
    "                filename = self.config.local_data_file\n",
    "            )\n",
    "            logger.info(f\"Downloaded file with the folowing headers: \\n{headers}\")\n",
    "        \n",
    "        else:\n",
    "            logger.info(f\"File already exists at {self.config.local_data_file} of size {get_size(self.config.local_data_file)}\")\n",
    "\n",
    "    def extract_zip_file(self):\n",
    "\n",
    "        unzip_path = self.config.unzip_dir\n",
    "        os.makedirs(unzip_path, exist_ok=True)\n",
    "        with ZipFile(self.config.local_data_file, 'r') as zip:\n",
    "            zip.extractall(path=unzip_path)\n",
    "            logger.info(f\"Extracted file at {self.config.unzip_dir}\")\n",
    "                "
   ]
  },
  {
   "cell_type": "code",
   "execution_count": 34,
   "metadata": {},
   "outputs": [
    {
     "name": "stdout",
     "output_type": "stream",
     "text": [
      "Configuration Manager Initiated\n",
      "Config File Path: D:\\Projects\\chicken-disease-classification\\config\\config.yaml, with dtype <class 'pathlib.WindowsPath'>\n",
      "Params File Path: D:\\Projects\\chicken-disease-classification\\params.yaml with dtype <class 'pathlib.WindowsPath'>\n",
      "[ 2023-09-14 01:27:02,546: INFO: common:  yaml file: D:\\Projects\\chicken-disease-classification\\config\\config.yaml loaded successfully]\n",
      "[ 2023-09-14 01:27:02,550: INFO: common:  yaml file: D:\\Projects\\chicken-disease-classification\\params.yaml loaded successfully]\n",
      "Configs: {'artifacts_root': 'artifacts', 'data_ingestion': {'root_dir': 'artifacts/data_ingestion', 'source_URL': 'https://github.com/QTanweer/Chicken-Disease-Dataset/raw/main/chicken_disease.zip', 'local_data_file': 'artifacts/data_ingestion/data.zip', 'unzip_dir': 'artifacts/data_ingestion/Chicken-Disease-Dataset'}}\n",
      "[ 2023-09-14 01:27:02,553: INFO: common:  directory: artifacts created successfully]\n",
      "[ 2023-09-14 01:27:02,555: INFO: common:  directory: artifacts created successfully]\n",
      "[ 2023-09-14 01:27:02,557: INFO: common:  directory: artifacts/data_ingestion created successfully]\n",
      "[ 2023-09-14 01:27:02,559: INFO: common:  directory: artifacts/data_ingestion created successfully]\n"
     ]
    },
    {
     "name": "stdout",
     "output_type": "stream",
     "text": [
      "[ 2023-09-14 01:28:02,734: INFO: 3909421219:  Downloaded file with the folowing headers: \n",
      "Connection: close\n",
      "Content-Length: 24046553\n",
      "Cache-Control: max-age=300\n",
      "Content-Security-Policy: default-src 'none'; style-src 'unsafe-inline'; sandbox\n",
      "Content-Type: application/zip\n",
      "ETag: \"d78fcf292e31630cad7071fd7f1e4dc9b22a2822f11e105ce7c4c439da739169\"\n",
      "Strict-Transport-Security: max-age=31536000\n",
      "X-Content-Type-Options: nosniff\n",
      "X-Frame-Options: deny\n",
      "X-XSS-Protection: 1; mode=block\n",
      "X-GitHub-Request-Id: AE86:2695:25A173:2D1059:650212CD\n",
      "Accept-Ranges: bytes\n",
      "Date: Wed, 13 Sep 2023 20:27:04 GMT\n",
      "Via: 1.1 varnish\n",
      "X-Served-By: cache-fjr990027-FJR\n",
      "X-Cache: HIT\n",
      "X-Cache-Hits: 1\n",
      "X-Timer: S1694636823.903816,VS0,VE1125\n",
      "Vary: Authorization,Accept-Encoding,Origin\n",
      "Access-Control-Allow-Origin: *\n",
      "Cross-Origin-Resource-Policy: cross-origin\n",
      "X-Fastly-Request-ID: 3556bba28035445c18c81a99b7e26f0843e95895\n",
      "Expires: Wed, 13 Sep 2023 20:32:04 GMT\n",
      "Source-Age: 0\n",
      "\n",
      "]\n",
      "[ 2023-09-14 01:28:05,950: INFO: 3909421219:  Extracted file at artifacts/data_ingestion/Chicken-Disease-Dataset]\n"
     ]
    }
   ],
   "source": [
    "try:\n",
    "    config = ConfiguratonManager()\n",
    "    data_ingestion_config = config.get_data_ingestion_config()\n",
    "    data_ingestion = DataIngestion(config=data_ingestion_config)\n",
    "    data_ingestion.download_file()\n",
    "    data_ingestion.extract_zip_file()\n",
    "except Exception as e:\n",
    "    logger.exception(e)\n",
    "    raise e\n",
    "    "
   ]
  },
  {
   "cell_type": "code",
   "execution_count": null,
   "metadata": {},
   "outputs": [],
   "source": []
  },
  {
   "cell_type": "code",
   "execution_count": null,
   "metadata": {},
   "outputs": [],
   "source": []
  }
 ],
 "metadata": {
  "kernelspec": {
   "display_name": "env",
   "language": "python",
   "name": "python3"
  },
  "language_info": {
   "codemirror_mode": {
    "name": "ipython",
    "version": 3
   },
   "file_extension": ".py",
   "mimetype": "text/x-python",
   "name": "python",
   "nbconvert_exporter": "python",
   "pygments_lexer": "ipython3",
   "version": "3.11.4"
  },
  "orig_nbformat": 4
 },
 "nbformat": 4,
 "nbformat_minor": 2
}
