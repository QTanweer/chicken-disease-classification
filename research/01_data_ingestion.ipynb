{
 "cells": [
  {
   "cell_type": "code",
   "execution_count": 10,
   "metadata": {},
   "outputs": [
    {
     "data": {
      "text/plain": [
       "'d:\\\\Projects\\\\chicken-disease-classification'"
      ]
     },
     "execution_count": 10,
     "metadata": {},
     "output_type": "execute_result"
    }
   ],
   "source": [
    "%pwd"
   ]
  },
  {
   "cell_type": "markdown",
   "metadata": {},
   "source": [
    "Incase the pwd is not the home folder, change the directory to home folder\n",
    "import os\n",
    "os.chdir(\"../\")"
   ]
  },
  {
   "cell_type": "code",
   "execution_count": 2,
   "metadata": {},
   "outputs": [],
   "source": [
    "from dataclasses import dataclass\n",
    "from pathlib import Path\n",
    "\n",
    "@dataclass(frozen=True)\n",
    "class DataIngestionConfig:\n",
    "    root_dir: Path\n",
    "    source_URL: str\n",
    "    local_data_file: Path\n",
    "    unzip_dir: Path\n"
   ]
  },
  {
   "cell_type": "code",
   "execution_count": 3,
   "metadata": {},
   "outputs": [],
   "source": [
    "from cnnClassifier.constants import *\n",
    "from cnnClassifier.utils.common import read_yaml, create_directories"
   ]
  },
  {
   "cell_type": "code",
   "execution_count": 4,
   "metadata": {},
   "outputs": [
    {
     "name": "stdout",
     "output_type": "stream",
     "text": [
      "Configuration Manager Initiated\n",
      "Config File Path: D:\\Projects\\chicken-disease-classification\\config\\config.yaml, with dtype <class 'pathlib.WindowsPath'>\n",
      "Params File Path: D:\\Projects\\chicken-disease-classification\\params.yaml with dtype <class 'pathlib.WindowsPath'>\n",
      "[ 2023-09-14 00:51:16,406: INFO: common:  yaml file: D:\\Projects\\chicken-disease-classification\\config\\config.yaml loaded successfully]\n",
      "[ 2023-09-14 00:51:16,411: INFO: common:  yaml file: D:\\Projects\\chicken-disease-classification\\params.yaml loaded successfully]\n",
      "Configs: {'artifacts_root': 'artifacts', 'data_ingestion': {'root_dir': 'artifacts/data_ingestion', 'source_URL': 'https://github.com/QTanweer/Chicken-Disease-Dataset/raw/main/chicken_disease.zip', 'local_data_file': 'artifacts/data_ingestion/data.zip', 'unzip_dir': 'artifacts/data_ingestion'}}\n",
      "[ 2023-09-14 00:51:16,416: INFO: common:  directory: artifacts created successfully]\n",
      "[ 2023-09-14 00:51:16,417: INFO: common:  directory: artifacts created successfully]\n"
     ]
    }
   ],
   "source": [
    "from cnnClassifier.constants import *\n",
    "from cnnClassifier.utils.common import read_yaml, create_directories\n",
    "from pathlib import Path\n",
    "\n",
    "class ConfiguratonManager:\n",
    "    def __init__(\n",
    "            self,\n",
    "            config_filepath = CONFIG_FILE_PATH,\n",
    "            params_filepath = PARAMS_FILE_PATH,\n",
    "            ):\n",
    "        print(\"Configuration Manager Initiated\")\n",
    "        print(f\"Config File Path: {config_filepath}, with dtype {type(config_filepath)}\")\n",
    "        print(f\"Params File Path: {params_filepath} with dtype {type(params_filepath)}\")\n",
    "        self.configs = read_yaml(config_filepath)\n",
    "        self.params = read_yaml(params_filepath)\n",
    "\n",
    "        print(f\"Configs: {self.configs}\")\n",
    "        create_directories([self.configs.artifacts_root])\n",
    "\n",
    "    def get_data_ingestion_config(self) -> DataIngestionConfig:\n",
    "        config = self.configs.data_ingestion\n",
    "\n",
    "        return DataIngestionConfig(\n",
    "            root_dir = Path(config.root_dir),\n",
    "            source_URL = config.source_URL,\n",
    "            local_data_file = Path(config.local_data_file),\n",
    "            unzip_dir = Path(config.unzip_dir)\n",
    "        )\n",
    "\n",
    "# config_dummy = ConfiguratonManager()\n"
   ]
  },
  {
   "cell_type": "code",
   "execution_count": 5,
   "metadata": {},
   "outputs": [],
   "source": [
    "import os\n",
    "import urllib.request as request\n",
    "from zipfile import ZipFile\n",
    "from cnnClassifier import logger\n",
    "from cnnClassifier.utils.common import get_size"
   ]
  },
  {
   "cell_type": "code",
   "execution_count": 6,
   "metadata": {},
   "outputs": [],
   "source": [
    "class DataIngestion:\n",
    "    def __init__(self, config: DataIngestionConfig):\n",
    "        self.config = config\n",
    "\n",
    "    def download_file(self):\n",
    "        if not os.path.exists(self.config.local_data_file):\n",
    "            filename, headers = request.urlretrieve(\n",
    "                url = self.config.source_URL,\n",
    "                filename = self.config.local_data_file\n",
    "            )\n",
    "            logger.info(f\"Downloaded file with the folowing headers: \\n{headers}\")\n",
    "        \n",
    "        else:\n",
    "            logger.info(f\"File already exists at {self.config.local_data_file} of size {get_size(self.config.local_data_file)}\")\n",
    "\n",
    "        def extract_zip_file(self):\n",
    "\n",
    "            unzip_path = self.config.unzip_dir\n",
    "            os.makedirs(unzip_path, exist_ok=True)\n",
    "            with ZipFile(self.config.local_data_file, 'r') as zip:\n",
    "                zip.extractall(path=unzip_path)\n",
    "                logger.info(f\"Extracted file at {self.config.unzip_dir}\")\n",
    "                "
   ]
  },
  {
   "cell_type": "code",
   "execution_count": 7,
   "metadata": {},
   "outputs": [
    {
     "name": "stdout",
     "output_type": "stream",
     "text": [
      "Configuration Manager Initiated\n",
      "Config File Path: D:\\Projects\\chicken-disease-classification\\config\\config.yaml, with dtype <class 'pathlib.WindowsPath'>\n",
      "Params File Path: D:\\Projects\\chicken-disease-classification\\params.yaml with dtype <class 'pathlib.WindowsPath'>\n",
      "[ 2023-09-14 00:51:40,798: INFO: common:  yaml file: D:\\Projects\\chicken-disease-classification\\config\\config.yaml loaded successfully]\n",
      "[ 2023-09-14 00:51:40,802: INFO: common:  yaml file: D:\\Projects\\chicken-disease-classification\\params.yaml loaded successfully]\n",
      "Configs: {'artifacts_root': 'artifacts', 'data_ingestion': {'root_dir': 'artifacts/data_ingestion', 'source_URL': 'https://github.com/QTanweer/Chicken-Disease-Dataset/raw/main/chicken_disease.zip', 'local_data_file': 'artifacts/data_ingestion/data.zip', 'unzip_dir': 'artifacts/data_ingestion'}}\n",
      "[ 2023-09-14 00:51:40,808: INFO: common:  directory: artifacts created successfully]\n",
      "[ 2023-09-14 00:51:40,811: INFO: common:  directory: artifacts created successfully]\n",
      "[ 2023-09-14 00:51:44,175: ERROR: 396791485:  [Errno 2] No such file or directory: 'artifacts\\\\data_ingestion\\\\data.zip']\n",
      "Traceback (most recent call last):\n",
      "  File \"C:\\Users\\qtanw\\AppData\\Local\\Temp\\ipykernel_20892\\396791485.py\", line 5, in <module>\n",
      "    data_ingestion.download_file()\n",
      "  File \"C:\\Users\\qtanw\\AppData\\Local\\Temp\\ipykernel_20892\\1601614090.py\", line 7, in download_file\n",
      "    filename, headers = request.urlretrieve(\n",
      "                        ^^^^^^^^^^^^^^^^^^^^\n",
      "  File \"C:\\Users\\qtanw\\AppData\\Local\\Programs\\Python\\Python311\\Lib\\urllib\\request.py\", line 251, in urlretrieve\n",
      "    tfp = open(filename, 'wb')\n",
      "          ^^^^^^^^^^^^^^^^^^^^\n",
      "FileNotFoundError: [Errno 2] No such file or directory: 'artifacts\\\\data_ingestion\\\\data.zip'\n"
     ]
    },
    {
     "ename": "FileNotFoundError",
     "evalue": "[Errno 2] No such file or directory: 'artifacts\\\\data_ingestion\\\\data.zip'",
     "output_type": "error",
     "traceback": [
      "\u001b[1;31m---------------------------------------------------------------------------\u001b[0m",
      "\u001b[1;31mFileNotFoundError\u001b[0m                         Traceback (most recent call last)",
      "\u001b[1;32md:\\Projects\\chicken-disease-classification\\research\\01_data_ingestion.ipynb Cell 7\u001b[0m line \u001b[0;36m9\n\u001b[0;32m      <a href='vscode-notebook-cell:/d%3A/Projects/chicken-disease-classification/research/01_data_ingestion.ipynb#X10sZmlsZQ%3D%3D?line=6'>7</a>\u001b[0m \u001b[39mexcept\u001b[39;00m \u001b[39mException\u001b[39;00m \u001b[39mas\u001b[39;00m e:\n\u001b[0;32m      <a href='vscode-notebook-cell:/d%3A/Projects/chicken-disease-classification/research/01_data_ingestion.ipynb#X10sZmlsZQ%3D%3D?line=7'>8</a>\u001b[0m     logger\u001b[39m.\u001b[39mexception(e)\n\u001b[1;32m----> <a href='vscode-notebook-cell:/d%3A/Projects/chicken-disease-classification/research/01_data_ingestion.ipynb#X10sZmlsZQ%3D%3D?line=8'>9</a>\u001b[0m     \u001b[39mraise\u001b[39;00m e\n",
      "\u001b[1;32md:\\Projects\\chicken-disease-classification\\research\\01_data_ingestion.ipynb Cell 7\u001b[0m line \u001b[0;36m5\n\u001b[0;32m      <a href='vscode-notebook-cell:/d%3A/Projects/chicken-disease-classification/research/01_data_ingestion.ipynb#X10sZmlsZQ%3D%3D?line=2'>3</a>\u001b[0m     data_ingestion_config \u001b[39m=\u001b[39m config_dummy1\u001b[39m.\u001b[39mget_data_ingestion_config()\n\u001b[0;32m      <a href='vscode-notebook-cell:/d%3A/Projects/chicken-disease-classification/research/01_data_ingestion.ipynb#X10sZmlsZQ%3D%3D?line=3'>4</a>\u001b[0m     data_ingestion \u001b[39m=\u001b[39m DataIngestion(config\u001b[39m=\u001b[39mdata_ingestion_config)\n\u001b[1;32m----> <a href='vscode-notebook-cell:/d%3A/Projects/chicken-disease-classification/research/01_data_ingestion.ipynb#X10sZmlsZQ%3D%3D?line=4'>5</a>\u001b[0m     data_ingestion\u001b[39m.\u001b[39;49mdownload_file()\n\u001b[0;32m      <a href='vscode-notebook-cell:/d%3A/Projects/chicken-disease-classification/research/01_data_ingestion.ipynb#X10sZmlsZQ%3D%3D?line=5'>6</a>\u001b[0m     data_ingestion\u001b[39m.\u001b[39mextract_zip_file()\n\u001b[0;32m      <a href='vscode-notebook-cell:/d%3A/Projects/chicken-disease-classification/research/01_data_ingestion.ipynb#X10sZmlsZQ%3D%3D?line=6'>7</a>\u001b[0m \u001b[39mexcept\u001b[39;00m \u001b[39mException\u001b[39;00m \u001b[39mas\u001b[39;00m e:\n",
      "\u001b[1;32md:\\Projects\\chicken-disease-classification\\research\\01_data_ingestion.ipynb Cell 7\u001b[0m line \u001b[0;36m7\n\u001b[0;32m      <a href='vscode-notebook-cell:/d%3A/Projects/chicken-disease-classification/research/01_data_ingestion.ipynb#X10sZmlsZQ%3D%3D?line=4'>5</a>\u001b[0m \u001b[39mdef\u001b[39;00m \u001b[39mdownload_file\u001b[39m(\u001b[39mself\u001b[39m):\n\u001b[0;32m      <a href='vscode-notebook-cell:/d%3A/Projects/chicken-disease-classification/research/01_data_ingestion.ipynb#X10sZmlsZQ%3D%3D?line=5'>6</a>\u001b[0m     \u001b[39mif\u001b[39;00m \u001b[39mnot\u001b[39;00m os\u001b[39m.\u001b[39mpath\u001b[39m.\u001b[39mexists(\u001b[39mself\u001b[39m\u001b[39m.\u001b[39mconfig\u001b[39m.\u001b[39mlocal_data_file):\n\u001b[1;32m----> <a href='vscode-notebook-cell:/d%3A/Projects/chicken-disease-classification/research/01_data_ingestion.ipynb#X10sZmlsZQ%3D%3D?line=6'>7</a>\u001b[0m         filename, headers \u001b[39m=\u001b[39m request\u001b[39m.\u001b[39;49murlretrieve(\n\u001b[0;32m      <a href='vscode-notebook-cell:/d%3A/Projects/chicken-disease-classification/research/01_data_ingestion.ipynb#X10sZmlsZQ%3D%3D?line=7'>8</a>\u001b[0m             url \u001b[39m=\u001b[39;49m \u001b[39mself\u001b[39;49m\u001b[39m.\u001b[39;49mconfig\u001b[39m.\u001b[39;49msource_URL,\n\u001b[0;32m      <a href='vscode-notebook-cell:/d%3A/Projects/chicken-disease-classification/research/01_data_ingestion.ipynb#X10sZmlsZQ%3D%3D?line=8'>9</a>\u001b[0m             filename \u001b[39m=\u001b[39;49m \u001b[39mself\u001b[39;49m\u001b[39m.\u001b[39;49mconfig\u001b[39m.\u001b[39;49mlocal_data_file\n\u001b[0;32m     <a href='vscode-notebook-cell:/d%3A/Projects/chicken-disease-classification/research/01_data_ingestion.ipynb#X10sZmlsZQ%3D%3D?line=9'>10</a>\u001b[0m         )\n\u001b[0;32m     <a href='vscode-notebook-cell:/d%3A/Projects/chicken-disease-classification/research/01_data_ingestion.ipynb#X10sZmlsZQ%3D%3D?line=10'>11</a>\u001b[0m         logger\u001b[39m.\u001b[39minfo(\u001b[39mf\u001b[39m\u001b[39m\"\u001b[39m\u001b[39mDownloaded file with the folowing headers: \u001b[39m\u001b[39m\\n\u001b[39;00m\u001b[39m{\u001b[39;00mheaders\u001b[39m}\u001b[39;00m\u001b[39m\"\u001b[39m)\n\u001b[0;32m     <a href='vscode-notebook-cell:/d%3A/Projects/chicken-disease-classification/research/01_data_ingestion.ipynb#X10sZmlsZQ%3D%3D?line=12'>13</a>\u001b[0m     \u001b[39melse\u001b[39;00m:\n",
      "File \u001b[1;32m~\\AppData\\Local\\Programs\\Python\\Python311\\Lib\\urllib\\request.py:251\u001b[0m, in \u001b[0;36murlretrieve\u001b[1;34m(url, filename, reporthook, data)\u001b[0m\n\u001b[0;32m    249\u001b[0m \u001b[39m# Handle temporary file setup.\u001b[39;00m\n\u001b[0;32m    250\u001b[0m \u001b[39mif\u001b[39;00m filename:\n\u001b[1;32m--> 251\u001b[0m     tfp \u001b[39m=\u001b[39m \u001b[39mopen\u001b[39;49m(filename, \u001b[39m'\u001b[39;49m\u001b[39mwb\u001b[39;49m\u001b[39m'\u001b[39;49m)\n\u001b[0;32m    252\u001b[0m \u001b[39melse\u001b[39;00m:\n\u001b[0;32m    253\u001b[0m     tfp \u001b[39m=\u001b[39m tempfile\u001b[39m.\u001b[39mNamedTemporaryFile(delete\u001b[39m=\u001b[39m\u001b[39mFalse\u001b[39;00m)\n",
      "\u001b[1;31mFileNotFoundError\u001b[0m: [Errno 2] No such file or directory: 'artifacts\\\\data_ingestion\\\\data.zip'"
     ]
    }
   ],
   "source": [
    "try:\n",
    "    config_dummy1 = ConfiguratonManager()\n",
    "    data_ingestion_config = config_dummy1.get_data_ingestion_config()\n",
    "    data_ingestion = DataIngestion(config=data_ingestion_config)\n",
    "    data_ingestion.download_file()\n",
    "    data_ingestion.extract_zip_file()\n",
    "except Exception as e:\n",
    "    logger.exception(e)\n",
    "    raise e\n",
    "    "
   ]
  },
  {
   "cell_type": "code",
   "execution_count": null,
   "metadata": {},
   "outputs": [],
   "source": []
  },
  {
   "cell_type": "code",
   "execution_count": null,
   "metadata": {},
   "outputs": [],
   "source": []
  }
 ],
 "metadata": {
  "kernelspec": {
   "display_name": "env",
   "language": "python",
   "name": "python3"
  },
  "language_info": {
   "codemirror_mode": {
    "name": "ipython",
    "version": 3
   },
   "file_extension": ".py",
   "mimetype": "text/x-python",
   "name": "python",
   "nbconvert_exporter": "python",
   "pygments_lexer": "ipython3",
   "version": "3.11.4"
  },
  "orig_nbformat": 4
 },
 "nbformat": 4,
 "nbformat_minor": 2
}
