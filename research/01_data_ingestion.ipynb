{
 "cells": [
  {
   "cell_type": "code",
   "execution_count": 1,
   "metadata": {},
   "outputs": [
    {
     "data": {
      "text/plain": [
       "'d:\\\\Projects\\\\chicken-disease-classification\\\\research'"
      ]
     },
     "execution_count": 1,
     "metadata": {},
     "output_type": "execute_result"
    }
   ],
   "source": [
    "%pwd"
   ]
  },
  {
   "cell_type": "code",
   "execution_count": 2,
   "metadata": {},
   "outputs": [],
   "source": [
    "from dataclasses import dataclass\n",
    "from pathlib import Path\n",
    "\n",
    "@dataclass(frozen=True)\n",
    "class DataIngestionConfig:\n",
    "    root_dir: Path\n",
    "    source_URL: str\n",
    "    local_data_file: Path\n",
    "    unzip_dir: Path\n"
   ]
  },
  {
   "cell_type": "code",
   "execution_count": 25,
   "metadata": {},
   "outputs": [],
   "source": [
    "from cnnClassifier.constants import *\n",
    "from cnnClassifier.utils.common import read_yaml, create_directories"
   ]
  },
  {
   "cell_type": "code",
   "execution_count": 26,
   "metadata": {},
   "outputs": [
    {
     "name": "stdout",
     "output_type": "stream",
     "text": [
      "Configuration Manager Initiated\n",
      "Config File Path: D:\\Projects\\chicken-disease-classification\\config\\config.yaml, with dtype <class 'pathlib.WindowsPath'>\n",
      "Params File Path: D:\\Projects\\chicken-disease-classification\\params.yaml with dtype <class 'pathlib.WindowsPath'>\n",
      "Inside read_yaml func before try clause: D:\\Projects\\chicken-disease-classification\\config\\config.yaml,and type: <class 'pathlib.WindowsPath'>\n",
      "True\n",
      "Inside read_yaml function's try: D:\\Projects\\chicken-disease-classification\\config\\config.yaml, and type: <class 'pathlib.WindowsPath'>\n",
      "[ 2023-09-14 00:45:18,598: INFO: common:  yaml file: D:\\Projects\\chicken-disease-classification\\config\\config.yaml loaded successfully]\n",
      "Inside read_yaml func before try clause: D:\\Projects\\chicken-disease-classification\\params.yaml,and type: <class 'pathlib.WindowsPath'>\n",
      "True\n",
      "Inside read_yaml function's try: D:\\Projects\\chicken-disease-classification\\params.yaml, and type: <class 'pathlib.WindowsPath'>\n",
      "[ 2023-09-14 00:45:18,603: INFO: common:  yaml file: D:\\Projects\\chicken-disease-classification\\params.yaml loaded successfully]\n",
      "Configs: {'artifacts_root': 'artifacts', 'data_ingestion': {'root_dir': 'artifacts/data_ingestion', 'source_URL': 'https://github.com/QTanweer/Chicken-Disease-Dataset/raw/main/chicken_disease.zip', 'local_data_file': 'artifacts/data_ingestion/data.zip', 'unzip_dir': 'artifacts/data_ingestion'}}\n",
      "[ 2023-09-14 00:45:18,609: INFO: common:  directory: artifacts created successfully]\n",
      "[ 2023-09-14 00:45:18,611: INFO: common:  directory: artifacts created successfully]\n"
     ]
    },
    {
     "ename": "TypeError",
     "evalue": "isinstance() arg 2 must be a type, a tuple of types, or a union",
     "output_type": "error",
     "traceback": [
      "\u001b[1;31m---------------------------------------------------------------------------\u001b[0m",
      "\u001b[1;31mTypeError\u001b[0m                                 Traceback (most recent call last)",
      "\u001b[1;32md:\\Projects\\chicken-disease-classification\\research\\01_data_ingestion.ipynb Cell 4\u001b[0m line \u001b[0;36m3\n\u001b[0;32m     <a href='vscode-notebook-cell:/d%3A/Projects/chicken-disease-classification/research/01_data_ingestion.ipynb#W4sZmlsZQ%3D%3D?line=20'>21</a>\u001b[0m         config \u001b[39m=\u001b[39m \u001b[39mself\u001b[39m\u001b[39m.\u001b[39mconfigs\u001b[39m.\u001b[39mdata_ingestion\n\u001b[0;32m     <a href='vscode-notebook-cell:/d%3A/Projects/chicken-disease-classification/research/01_data_ingestion.ipynb#W4sZmlsZQ%3D%3D?line=22'>23</a>\u001b[0m         \u001b[39mreturn\u001b[39;00m DataIngestionConfig(\n\u001b[0;32m     <a href='vscode-notebook-cell:/d%3A/Projects/chicken-disease-classification/research/01_data_ingestion.ipynb#W4sZmlsZQ%3D%3D?line=23'>24</a>\u001b[0m             root_dir \u001b[39m=\u001b[39m Path(config\u001b[39m.\u001b[39mroot_dir),\n\u001b[0;32m     <a href='vscode-notebook-cell:/d%3A/Projects/chicken-disease-classification/research/01_data_ingestion.ipynb#W4sZmlsZQ%3D%3D?line=24'>25</a>\u001b[0m             source_URL \u001b[39m=\u001b[39m config\u001b[39m.\u001b[39msource_URL,\n\u001b[0;32m     <a href='vscode-notebook-cell:/d%3A/Projects/chicken-disease-classification/research/01_data_ingestion.ipynb#W4sZmlsZQ%3D%3D?line=25'>26</a>\u001b[0m             local_data_file \u001b[39m=\u001b[39m Path(config\u001b[39m.\u001b[39mlocal_data_file),\n\u001b[0;32m     <a href='vscode-notebook-cell:/d%3A/Projects/chicken-disease-classification/research/01_data_ingestion.ipynb#W4sZmlsZQ%3D%3D?line=26'>27</a>\u001b[0m             unzip_dir \u001b[39m=\u001b[39m Path(config\u001b[39m.\u001b[39munzip_dir)\n\u001b[0;32m     <a href='vscode-notebook-cell:/d%3A/Projects/chicken-disease-classification/research/01_data_ingestion.ipynb#W4sZmlsZQ%3D%3D?line=27'>28</a>\u001b[0m         )\n\u001b[1;32m---> <a href='vscode-notebook-cell:/d%3A/Projects/chicken-disease-classification/research/01_data_ingestion.ipynb#W4sZmlsZQ%3D%3D?line=29'>30</a>\u001b[0m config_dummy \u001b[39m=\u001b[39m ConfiguratonManager()\n",
      "\u001b[1;32md:\\Projects\\chicken-disease-classification\\research\\01_data_ingestion.ipynb Cell 4\u001b[0m line \u001b[0;36m1\n\u001b[0;32m     <a href='vscode-notebook-cell:/d%3A/Projects/chicken-disease-classification/research/01_data_ingestion.ipynb#W4sZmlsZQ%3D%3D?line=14'>15</a>\u001b[0m \u001b[39mself\u001b[39m\u001b[39m.\u001b[39mparams \u001b[39m=\u001b[39m read_yaml(params_filepath)\n\u001b[0;32m     <a href='vscode-notebook-cell:/d%3A/Projects/chicken-disease-classification/research/01_data_ingestion.ipynb#W4sZmlsZQ%3D%3D?line=16'>17</a>\u001b[0m \u001b[39mprint\u001b[39m(\u001b[39mf\u001b[39m\u001b[39m\"\u001b[39m\u001b[39mConfigs: \u001b[39m\u001b[39m{\u001b[39;00m\u001b[39mself\u001b[39m\u001b[39m.\u001b[39mconfigs\u001b[39m}\u001b[39;00m\u001b[39m\"\u001b[39m)\n\u001b[1;32m---> <a href='vscode-notebook-cell:/d%3A/Projects/chicken-disease-classification/research/01_data_ingestion.ipynb#W4sZmlsZQ%3D%3D?line=17'>18</a>\u001b[0m create_directories([\u001b[39mself\u001b[39;49m\u001b[39m.\u001b[39;49mconfigs\u001b[39m.\u001b[39;49martifacts_root])\n",
      "File \u001b[1;32md:\\Projects\\chicken-disease-classification\\env\\Lib\\site-packages\\ensure\\main.py:850\u001b[0m, in \u001b[0;36mWrappedFunctionReturn.__call__\u001b[1;34m(self, *args, **kwargs)\u001b[0m\n\u001b[0;32m    845\u001b[0m         \u001b[39mraise\u001b[39;00m EnsureError(msg\u001b[39m.\u001b[39mformat(\n\u001b[0;32m    846\u001b[0m             arg\u001b[39m=\u001b[39marg, f\u001b[39m=\u001b[39m\u001b[39mself\u001b[39m\u001b[39m.\u001b[39mf, t\u001b[39m=\u001b[39mtempl, valt\u001b[39m=\u001b[39m\u001b[39mtype\u001b[39m(value)\n\u001b[0;32m    847\u001b[0m         ))\n\u001b[0;32m    849\u001b[0m return_val \u001b[39m=\u001b[39m \u001b[39mself\u001b[39m\u001b[39m.\u001b[39mf(\u001b[39m*\u001b[39margs, \u001b[39m*\u001b[39m\u001b[39m*\u001b[39mkwargs)\n\u001b[1;32m--> 850\u001b[0m \u001b[39mif\u001b[39;00m \u001b[39mnot\u001b[39;00m \u001b[39misinstance\u001b[39m(return_val, \u001b[39mself\u001b[39m\u001b[39m.\u001b[39mreturn_templ):\n\u001b[0;32m    851\u001b[0m     msg \u001b[39m=\u001b[39m (\n\u001b[0;32m    852\u001b[0m         \u001b[39m\"\u001b[39m\u001b[39mReturn value of \u001b[39m\u001b[39m{f}\u001b[39;00m\u001b[39m of type \u001b[39m\u001b[39m{valt}\u001b[39;00m\u001b[39m \u001b[39m\u001b[39m\"\u001b[39m\n\u001b[0;32m    853\u001b[0m         \u001b[39m\"\u001b[39m\u001b[39mdoes not match annotation type \u001b[39m\u001b[39m{t}\u001b[39;00m\u001b[39m\"\u001b[39m\n\u001b[0;32m    854\u001b[0m     )\n\u001b[0;32m    855\u001b[0m     \u001b[39mraise\u001b[39;00m EnsureError(msg\u001b[39m.\u001b[39mformat(\n\u001b[0;32m    856\u001b[0m         f\u001b[39m=\u001b[39m\u001b[39mself\u001b[39m\u001b[39m.\u001b[39mf, t\u001b[39m=\u001b[39m\u001b[39mself\u001b[39m\u001b[39m.\u001b[39mreturn_templ, valt\u001b[39m=\u001b[39m\u001b[39mtype\u001b[39m(return_val)\n\u001b[0;32m    857\u001b[0m     ))\n",
      "\u001b[1;31mTypeError\u001b[0m: isinstance() arg 2 must be a type, a tuple of types, or a union"
     ]
    }
   ],
   "source": [
    "from cnnClassifier.constants import *\n",
    "from cnnClassifier.utils.common import read_yaml, create_directories\n",
    "from pathlib import Path\n",
    "\n",
    "class ConfiguratonManager:\n",
    "    def __init__(\n",
    "            self,\n",
    "            config_filepath = CONFIG_FILE_PATH,\n",
    "            params_filepath = PARAMS_FILE_PATH,\n",
    "            ):\n",
    "        print(\"Configuration Manager Initiated\")\n",
    "        print(f\"Config File Path: {config_filepath}, with dtype {type(config_filepath)}\")\n",
    "        print(f\"Params File Path: {params_filepath} with dtype {type(params_filepath)}\")\n",
    "        self.configs = read_yaml(config_filepath)\n",
    "        self.params = read_yaml(params_filepath)\n",
    "\n",
    "        print(f\"Configs: {self.configs}\")\n",
    "        create_directories([self.configs.artifacts_root])\n",
    "\n",
    "    def get_data_ingestion_config(self) -> DataIngestionConfig:\n",
    "        config = self.configs.data_ingestion\n",
    "\n",
    "        return DataIngestionConfig(\n",
    "            root_dir = Path(config.root_dir),\n",
    "            source_URL = config.source_URL,\n",
    "            local_data_file = Path(config.local_data_file),\n",
    "            unzip_dir = Path(config.unzip_dir)\n",
    "        )\n",
    "\n",
    "config_dummy = ConfiguratonManager()\n"
   ]
  },
  {
   "cell_type": "code",
   "execution_count": 5,
   "metadata": {},
   "outputs": [],
   "source": [
    "import os\n",
    "import urllib.request as request\n",
    "from zipfile import ZipFile\n",
    "from cnnClassifier import logger\n",
    "from cnnClassifier.utils.common import get_size"
   ]
  },
  {
   "cell_type": "code",
   "execution_count": 6,
   "metadata": {},
   "outputs": [],
   "source": [
    "class DataIngestion:\n",
    "    def __init__(self, config: DataIngestionConfig):\n",
    "        self.config = config\n",
    "\n",
    "    def download_file(self):\n",
    "        if not os.path.exists(self.config.local_data_file):\n",
    "            filename, headers = request.urlretrieve(\n",
    "                url = self.config.source_URL,\n",
    "                filename = self.config.local_data_file\n",
    "            )\n",
    "            logger.info(f\"Downloaded file with the folowing headers: \\n{headers}\")\n",
    "        \n",
    "        else:\n",
    "            logger.info(f\"File already exists at {self.config.local_data_file} of size {get_size(self.config.local_data_file)}\")\n",
    "\n",
    "        def extract_zip_file(self):\n",
    "\n",
    "            unzip_path = self.config.unzip_dir\n",
    "            os.makedirs(unzip_path, exist_ok=True)\n",
    "            with ZipFile(self.config.local_data_file, 'r') as zip:\n",
    "                zip.extractall(path=unzip_path)\n",
    "                logger.info(f\"Extracted file at {self.config.unzip_dir}\")\n",
    "                "
   ]
  },
  {
   "cell_type": "code",
   "execution_count": 18,
   "metadata": {},
   "outputs": [
    {
     "name": "stdout",
     "output_type": "stream",
     "text": [
      "Configuration Manager Initiated\n",
      "Config File Path: D:\\Projects\\chicken-disease-classification\\config\\config.yaml, with dtype <class 'pathlib.WindowsPath'>\n",
      "Params File Path: D:\\Projects\\chicken-disease-classification\\params.yaml with dtype <class 'pathlib.WindowsPath'>\n",
      "Inside read_yaml func before try clause: D:\\Projects\\chicken-disease-classification\\config\\config.yaml,and type: <class 'pathlib.WindowsPath'>\n",
      "True\n",
      "Inside read_yaml function's try: D:\\Projects\\chicken-disease-classification\\config\\config.yaml, and type: <class 'pathlib.WindowsPath'>\n",
      "[ 2023-09-14 00:27:05,230: INFO: common:  yaml file: D:\\Projects\\chicken-disease-classification\\config\\config.yaml loaded successfully]\n",
      "Inside read_yaml func before try clause: D:\\Projects\\chicken-disease-classification\\params.yaml,and type: <class 'pathlib.WindowsPath'>\n",
      "True\n",
      "Inside read_yaml function's try: D:\\Projects\\chicken-disease-classification\\params.yaml, and type: <class 'pathlib.WindowsPath'>\n",
      "[ 2023-09-14 00:27:05,237: INFO: common:  yaml file: D:\\Projects\\chicken-disease-classification\\params.yaml loaded successfully]\n",
      "Configs: {'artifacts_root': 'artifacts', 'data_ingestion': {'root_dir': 'artifacts/data_ingestion', 'source_URL': 'https://github.com/QTanweer/Chicken-Disease-Dataset/raw/main/chicken_disease.zip', 'local_data_file': 'artifacts/data_ingestion/data.zip', 'unzip_dir': 'artifacts/data_ingestion'}}\n",
      "[ 2023-09-14 00:27:05,241: INFO: common:  directory: artifacts created successfully]\n",
      "[ 2023-09-14 00:27:05,244: INFO: common:  directory: artifacts created successfully]\n",
      "[ 2023-09-14 00:27:05,248: ERROR: 396791485:  isinstance() arg 2 must be a type, a tuple of types, or a union]\n",
      "Traceback (most recent call last):\n",
      "  File \"C:\\Users\\qtanw\\AppData\\Local\\Temp\\ipykernel_14404\\396791485.py\", line 2, in <module>\n",
      "    config_dummy1 = ConfiguratonManager()\n",
      "                    ^^^^^^^^^^^^^^^^^^^^^\n",
      "  File \"C:\\Users\\qtanw\\AppData\\Local\\Temp\\ipykernel_14404\\172159944.py\", line 14, in __init__\n",
      "    create_directories([self.configs.artifacts_root])\n",
      "  File \"d:\\Projects\\chicken-disease-classification\\env\\Lib\\site-packages\\ensure\\main.py\", line 850, in __call__\n",
      "    if not isinstance(return_val, self.return_templ):\n",
      "           ^^^^^^^^^^^^^^^^^^^^^^^^^^^^^^^^^^^^^^^^^\n",
      "TypeError: isinstance() arg 2 must be a type, a tuple of types, or a union\n"
     ]
    },
    {
     "ename": "TypeError",
     "evalue": "isinstance() arg 2 must be a type, a tuple of types, or a union",
     "output_type": "error",
     "traceback": [
      "\u001b[1;31m---------------------------------------------------------------------------\u001b[0m",
      "\u001b[1;31mTypeError\u001b[0m                                 Traceback (most recent call last)",
      "\u001b[1;32md:\\Projects\\chicken-disease-classification\\research\\01_data_ingestion.ipynb Cell 7\u001b[0m line \u001b[0;36m9\n\u001b[0;32m      <a href='vscode-notebook-cell:/d%3A/Projects/chicken-disease-classification/research/01_data_ingestion.ipynb#X10sZmlsZQ%3D%3D?line=6'>7</a>\u001b[0m \u001b[39mexcept\u001b[39;00m \u001b[39mException\u001b[39;00m \u001b[39mas\u001b[39;00m e:\n\u001b[0;32m      <a href='vscode-notebook-cell:/d%3A/Projects/chicken-disease-classification/research/01_data_ingestion.ipynb#X10sZmlsZQ%3D%3D?line=7'>8</a>\u001b[0m     logger\u001b[39m.\u001b[39mexception(e)\n\u001b[1;32m----> <a href='vscode-notebook-cell:/d%3A/Projects/chicken-disease-classification/research/01_data_ingestion.ipynb#X10sZmlsZQ%3D%3D?line=8'>9</a>\u001b[0m     \u001b[39mraise\u001b[39;00m e\n",
      "\u001b[1;32md:\\Projects\\chicken-disease-classification\\research\\01_data_ingestion.ipynb Cell 7\u001b[0m line \u001b[0;36m2\n\u001b[0;32m      <a href='vscode-notebook-cell:/d%3A/Projects/chicken-disease-classification/research/01_data_ingestion.ipynb#X10sZmlsZQ%3D%3D?line=0'>1</a>\u001b[0m \u001b[39mtry\u001b[39;00m:\n\u001b[1;32m----> <a href='vscode-notebook-cell:/d%3A/Projects/chicken-disease-classification/research/01_data_ingestion.ipynb#X10sZmlsZQ%3D%3D?line=1'>2</a>\u001b[0m     config_dummy1 \u001b[39m=\u001b[39m ConfiguratonManager()\n\u001b[0;32m      <a href='vscode-notebook-cell:/d%3A/Projects/chicken-disease-classification/research/01_data_ingestion.ipynb#X10sZmlsZQ%3D%3D?line=2'>3</a>\u001b[0m     data_ingestion_config \u001b[39m=\u001b[39m config_dummy1\u001b[39m.\u001b[39mget_data_ingestion_config()\n\u001b[0;32m      <a href='vscode-notebook-cell:/d%3A/Projects/chicken-disease-classification/research/01_data_ingestion.ipynb#X10sZmlsZQ%3D%3D?line=3'>4</a>\u001b[0m     data_ingestion \u001b[39m=\u001b[39m DataIngestion(config\u001b[39m=\u001b[39mdata_ingestion_config)\n",
      "\u001b[1;32md:\\Projects\\chicken-disease-classification\\research\\01_data_ingestion.ipynb Cell 7\u001b[0m line \u001b[0;36m1\n\u001b[0;32m     <a href='vscode-notebook-cell:/d%3A/Projects/chicken-disease-classification/research/01_data_ingestion.ipynb#X10sZmlsZQ%3D%3D?line=10'>11</a>\u001b[0m \u001b[39mself\u001b[39m\u001b[39m.\u001b[39mparams \u001b[39m=\u001b[39m read_yaml(params_filepath)\n\u001b[0;32m     <a href='vscode-notebook-cell:/d%3A/Projects/chicken-disease-classification/research/01_data_ingestion.ipynb#X10sZmlsZQ%3D%3D?line=12'>13</a>\u001b[0m \u001b[39mprint\u001b[39m(\u001b[39mf\u001b[39m\u001b[39m\"\u001b[39m\u001b[39mConfigs: \u001b[39m\u001b[39m{\u001b[39;00m\u001b[39mself\u001b[39m\u001b[39m.\u001b[39mconfigs\u001b[39m}\u001b[39;00m\u001b[39m\"\u001b[39m)\n\u001b[1;32m---> <a href='vscode-notebook-cell:/d%3A/Projects/chicken-disease-classification/research/01_data_ingestion.ipynb#X10sZmlsZQ%3D%3D?line=13'>14</a>\u001b[0m create_directories([\u001b[39mself\u001b[39;49m\u001b[39m.\u001b[39;49mconfigs\u001b[39m.\u001b[39;49martifacts_root])\n",
      "File \u001b[1;32md:\\Projects\\chicken-disease-classification\\env\\Lib\\site-packages\\ensure\\main.py:850\u001b[0m, in \u001b[0;36mWrappedFunctionReturn.__call__\u001b[1;34m(self, *args, **kwargs)\u001b[0m\n\u001b[0;32m    845\u001b[0m         \u001b[39mraise\u001b[39;00m EnsureError(msg\u001b[39m.\u001b[39mformat(\n\u001b[0;32m    846\u001b[0m             arg\u001b[39m=\u001b[39marg, f\u001b[39m=\u001b[39m\u001b[39mself\u001b[39m\u001b[39m.\u001b[39mf, t\u001b[39m=\u001b[39mtempl, valt\u001b[39m=\u001b[39m\u001b[39mtype\u001b[39m(value)\n\u001b[0;32m    847\u001b[0m         ))\n\u001b[0;32m    849\u001b[0m return_val \u001b[39m=\u001b[39m \u001b[39mself\u001b[39m\u001b[39m.\u001b[39mf(\u001b[39m*\u001b[39margs, \u001b[39m*\u001b[39m\u001b[39m*\u001b[39mkwargs)\n\u001b[1;32m--> 850\u001b[0m \u001b[39mif\u001b[39;00m \u001b[39mnot\u001b[39;00m \u001b[39misinstance\u001b[39m(return_val, \u001b[39mself\u001b[39m\u001b[39m.\u001b[39mreturn_templ):\n\u001b[0;32m    851\u001b[0m     msg \u001b[39m=\u001b[39m (\n\u001b[0;32m    852\u001b[0m         \u001b[39m\"\u001b[39m\u001b[39mReturn value of \u001b[39m\u001b[39m{f}\u001b[39;00m\u001b[39m of type \u001b[39m\u001b[39m{valt}\u001b[39;00m\u001b[39m \u001b[39m\u001b[39m\"\u001b[39m\n\u001b[0;32m    853\u001b[0m         \u001b[39m\"\u001b[39m\u001b[39mdoes not match annotation type \u001b[39m\u001b[39m{t}\u001b[39;00m\u001b[39m\"\u001b[39m\n\u001b[0;32m    854\u001b[0m     )\n\u001b[0;32m    855\u001b[0m     \u001b[39mraise\u001b[39;00m EnsureError(msg\u001b[39m.\u001b[39mformat(\n\u001b[0;32m    856\u001b[0m         f\u001b[39m=\u001b[39m\u001b[39mself\u001b[39m\u001b[39m.\u001b[39mf, t\u001b[39m=\u001b[39m\u001b[39mself\u001b[39m\u001b[39m.\u001b[39mreturn_templ, valt\u001b[39m=\u001b[39m\u001b[39mtype\u001b[39m(return_val)\n\u001b[0;32m    857\u001b[0m     ))\n",
      "\u001b[1;31mTypeError\u001b[0m: isinstance() arg 2 must be a type, a tuple of types, or a union"
     ]
    }
   ],
   "source": [
    "try:\n",
    "    config_dummy1 = ConfiguratonManager()\n",
    "    data_ingestion_config = config_dummy1.get_data_ingestion_config()\n",
    "    data_ingestion = DataIngestion(config=data_ingestion_config)\n",
    "    data_ingestion.download_file()\n",
    "    data_ingestion.extract_zip_file()\n",
    "except Exception as e:\n",
    "    logger.exception(e)\n",
    "    raise e\n",
    "    "
   ]
  },
  {
   "cell_type": "code",
   "execution_count": null,
   "metadata": {},
   "outputs": [],
   "source": []
  },
  {
   "cell_type": "code",
   "execution_count": null,
   "metadata": {},
   "outputs": [],
   "source": []
  }
 ],
 "metadata": {
  "kernelspec": {
   "display_name": "env",
   "language": "python",
   "name": "python3"
  },
  "language_info": {
   "codemirror_mode": {
    "name": "ipython",
    "version": 3
   },
   "file_extension": ".py",
   "mimetype": "text/x-python",
   "name": "python",
   "nbconvert_exporter": "python",
   "pygments_lexer": "ipython3",
   "version": "3.11.4"
  },
  "orig_nbformat": 4
 },
 "nbformat": 4,
 "nbformat_minor": 2
}
