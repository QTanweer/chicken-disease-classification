{
 "cells": [
  {
   "cell_type": "code",
   "execution_count": 1,
   "metadata": {},
   "outputs": [
    {
     "data": {
      "text/plain": [
       "'d:\\\\Projects\\\\chicken-disease-classification\\\\research'"
      ]
     },
     "execution_count": 1,
     "metadata": {},
     "output_type": "execute_result"
    }
   ],
   "source": [
    "%pwd"
   ]
  },
  {
   "cell_type": "code",
   "execution_count": 2,
   "metadata": {},
   "outputs": [],
   "source": [
    "from dataclasses import dataclass\n",
    "from pathlib import Path\n",
    "\n",
    "@dataclass(frozen=True)\n",
    "class DataIngestionConfig:\n",
    "    root_dir: Path\n",
    "    source_URL: str\n",
    "    local_data_file: Path\n",
    "    unzip_dir: Path\n"
   ]
  },
  {
   "cell_type": "code",
   "execution_count": 3,
   "metadata": {},
   "outputs": [],
   "source": [
    "from cnnClassifier.constants import *\n",
    "from cnnClassifier.utils.common import read_yaml, create_directories"
   ]
  },
  {
   "cell_type": "code",
   "execution_count": 4,
   "metadata": {},
   "outputs": [],
   "source": [
    "class ConfiguratonManager:\n",
    "    def __init__(\n",
    "            self,\n",
    "            config_filepath = CONFIG_FILE_PATH,\n",
    "            params_filepath = PARAMS_FILE_PATH,\n",
    "            ):\n",
    "        print(\"Configuration Manager Initiated\")\n",
    "        print(f\"Config File Path: {config_filepath}, with dtype {type(config_filepath)}\")\n",
    "        print(f\"Params File Path: {params_filepath} with dtype {type(params_filepath)}\")\n",
    "        self.config = read_yaml(config_filepath)\n",
    "        self.params = read_yaml(params_filepath)\n",
    "\n",
    "\n",
    "        create_directories([self.config.artifacts_root])\n",
    "\n",
    "    def get_data_ingestion_config(self) -> DataIngestionConfig:\n",
    "        config = self.config.data_ingestion\n",
    "\n",
    "        return DataIngestionConfig(\n",
    "            root_dir = Path(config.root_dir),\n",
    "            source_URL = config.source_URL,\n",
    "            local_data_file = Path(config.local_data_file),\n",
    "            unzip_dir = Path(config.unzip_dir)\n",
    "        )"
   ]
  },
  {
   "cell_type": "code",
   "execution_count": 5,
   "metadata": {},
   "outputs": [],
   "source": [
    "import os\n",
    "import urllib.request as request\n",
    "from zipfile import ZipFile\n",
    "from cnnClassifier import logger\n",
    "from cnnClassifier.utils.common import get_size"
   ]
  },
  {
   "cell_type": "code",
   "execution_count": 6,
   "metadata": {},
   "outputs": [],
   "source": [
    "class DataIngestion:\n",
    "    def __init__(self, config: DataIngestionConfig):\n",
    "        self.config = config\n",
    "\n",
    "    def download_file(self):\n",
    "        if not os.path.exists(self.config.local_data_file):\n",
    "            filename, headers = request.urlretrieve(\n",
    "                url = self.config.source_URL,\n",
    "                filename = self.config.local_data_file\n",
    "            )\n",
    "            logger.info(f\"Downloaded file with the folowing headers: \\n{headers}\")\n",
    "        \n",
    "        else:\n",
    "            logger.info(f\"File already exists at {self.config.local_data_file} of size {get_size(self.config.local_data_file)}\")\n",
    "\n",
    "        def extract_zip_file(self):\n",
    "\n",
    "            unzip_path = self.config.unzip_dir\n",
    "            os.makedirs(unzip_path, exist_ok=True)\n",
    "            with ZipFile(self.config.local_data_file, 'r') as zip:\n",
    "                zip.extractall(path=unzip_path)\n",
    "                logger.info(f\"Extracted file at {self.config.unzip_dir}\")\n",
    "                "
   ]
  },
  {
   "cell_type": "code",
   "execution_count": 8,
   "metadata": {},
   "outputs": [
    {
     "name": "stdout",
     "output_type": "stream",
     "text": [
      "Configuration Manager Initiated\n",
      "Config File Path: D:\\Projects\\chicken-disease-classification\\config\\config.yaml, with dtype <class 'pathlib.WindowsPath'>\n",
      "Params File Path: D:\\Projects\\chicken-disease-classification\\params.yaml with dtype <class 'pathlib.WindowsPath'>\n",
      "Inside read_yaml func before try clause: D:\\Projects\\chicken-disease-classification\\config\\config.yaml,and type: <class 'pathlib.WindowsPath'>\n",
      "True\n",
      "Inside read_yaml function's try: D:\\Projects\\chicken-disease-classification\\config\\config.yaml, and type: <class 'pathlib.WindowsPath'>\n",
      "[ 2023-09-13 23:48:58,119: INFO: common:  yaml file: D:\\Projects\\chicken-disease-classification\\config\\config.yaml loaded successfully]\n",
      "Inside read_yaml func before try clause: D:\\Projects\\chicken-disease-classification\\params.yaml,and type: <class 'pathlib.WindowsPath'>\n",
      "True\n",
      "Inside read_yaml function's try: D:\\Projects\\chicken-disease-classification\\params.yaml, and type: <class 'pathlib.WindowsPath'>\n",
      "[ 2023-09-13 23:48:58,123: INFO: common:  yaml file: D:\\Projects\\chicken-disease-classification\\params.yaml loaded successfully]\n",
      "[ 2023-09-13 23:48:58,126: ERROR: 299375979:  Empty yaml file]\n",
      "Traceback (most recent call last):\n",
      "  File \"d:\\projects\\chicken-disease-classification\\src\\cnnClassifier\\utils\\common.py\", line 43, in read_yaml\n",
      "    config = ConfigBox(content)\n",
      "             ^^^^^^^^^^^^^^^^^^\n",
      "  File \"d:\\Projects\\chicken-disease-classification\\env\\Lib\\site-packages\\box\\box.py\", line 247, in __init__\n",
      "    raise BoxValueError(\"Cannot extrapolate Box from string\")\n",
      "box.exceptions.BoxValueError: Cannot extrapolate Box from string\n",
      "\n",
      "The above exception was the direct cause of the following exception:\n",
      "\n",
      "Traceback (most recent call last):\n",
      "  File \"C:\\Users\\qtanw\\AppData\\Local\\Temp\\ipykernel_14404\\299375979.py\", line 2, in <module>\n",
      "    config = ConfiguratonManager()\n",
      "             ^^^^^^^^^^^^^^^^^^^^^\n",
      "  File \"C:\\Users\\qtanw\\AppData\\Local\\Temp\\ipykernel_14404\\1055534830.py\", line 11, in __init__\n",
      "    self.params = read_yaml(params_filepath)\n",
      "                  ^^^^^^^^^^^^^^^^^^^^^^^^^^\n",
      "  File \"d:\\Projects\\chicken-disease-classification\\env\\Lib\\site-packages\\ensure\\main.py\", line 849, in __call__\n",
      "    return_val = self.f(*args, **kwargs)\n",
      "                 ^^^^^^^^^^^^^^^^^^^^^^^\n",
      "  File \"d:\\projects\\chicken-disease-classification\\src\\cnnClassifier\\utils\\common.py\", line 46, in read_yaml\n",
      "    raise ValueError('Empty yaml file') from exc\n",
      "ValueError: Empty yaml file\n"
     ]
    },
    {
     "ename": "ValueError",
     "evalue": "Empty yaml file",
     "output_type": "error",
     "traceback": [
      "\u001b[1;31m---------------------------------------------------------------------------\u001b[0m",
      "\u001b[1;31mBoxValueError\u001b[0m                             Traceback (most recent call last)",
      "File \u001b[1;32md:\\projects\\chicken-disease-classification\\src\\cnnClassifier\\utils\\common.py:43\u001b[0m, in \u001b[0;36mread_yaml\u001b[1;34m(path_to_yaml)\u001b[0m\n\u001b[0;32m     42\u001b[0m logger\u001b[39m.\u001b[39minfo(\u001b[39m\"\u001b[39m\u001b[39myaml file: \u001b[39m\u001b[39m%s\u001b[39;00m\u001b[39m loaded successfully\u001b[39m\u001b[39m\"\u001b[39m, path_to_yaml)\n\u001b[1;32m---> 43\u001b[0m config \u001b[39m=\u001b[39m ConfigBox(content)\n\u001b[0;32m     44\u001b[0m \u001b[39mreturn\u001b[39;00m config\n",
      "File \u001b[1;32md:\\Projects\\chicken-disease-classification\\env\\Lib\\site-packages\\box\\box.py:247\u001b[0m, in \u001b[0;36mBox.__init__\u001b[1;34m(self, default_box, default_box_attr, default_box_none_transform, default_box_create_on_get, frozen_box, camel_killer_box, conversion_box, modify_tuples_box, box_safe_prefix, box_duplicates, box_intact_types, box_recast, box_dots, box_class, *args, **kwargs)\u001b[0m\n\u001b[0;32m    246\u001b[0m \u001b[39mif\u001b[39;00m \u001b[39misinstance\u001b[39m(args[\u001b[39m0\u001b[39m], \u001b[39mstr\u001b[39m):\n\u001b[1;32m--> 247\u001b[0m     \u001b[39mraise\u001b[39;00m BoxValueError(\u001b[39m\"\u001b[39m\u001b[39mCannot extrapolate Box from string\u001b[39m\u001b[39m\"\u001b[39m)\n\u001b[0;32m    248\u001b[0m \u001b[39mif\u001b[39;00m \u001b[39misinstance\u001b[39m(args[\u001b[39m0\u001b[39m], Mapping):\n",
      "\u001b[1;31mBoxValueError\u001b[0m: Cannot extrapolate Box from string",
      "\nThe above exception was the direct cause of the following exception:\n",
      "\u001b[1;31mValueError\u001b[0m                                Traceback (most recent call last)",
      "\u001b[1;32md:\\Projects\\chicken-disease-classification\\research\\01_data_ingestion.ipynb Cell 7\u001b[0m line \u001b[0;36m9\n\u001b[0;32m      <a href='vscode-notebook-cell:/d%3A/Projects/chicken-disease-classification/research/01_data_ingestion.ipynb#X10sZmlsZQ%3D%3D?line=6'>7</a>\u001b[0m \u001b[39mexcept\u001b[39;00m \u001b[39mException\u001b[39;00m \u001b[39mas\u001b[39;00m e:\n\u001b[0;32m      <a href='vscode-notebook-cell:/d%3A/Projects/chicken-disease-classification/research/01_data_ingestion.ipynb#X10sZmlsZQ%3D%3D?line=7'>8</a>\u001b[0m     logger\u001b[39m.\u001b[39mexception(e)\n\u001b[1;32m----> <a href='vscode-notebook-cell:/d%3A/Projects/chicken-disease-classification/research/01_data_ingestion.ipynb#X10sZmlsZQ%3D%3D?line=8'>9</a>\u001b[0m     \u001b[39mraise\u001b[39;00m e\n",
      "\u001b[1;32md:\\Projects\\chicken-disease-classification\\research\\01_data_ingestion.ipynb Cell 7\u001b[0m line \u001b[0;36m2\n\u001b[0;32m      <a href='vscode-notebook-cell:/d%3A/Projects/chicken-disease-classification/research/01_data_ingestion.ipynb#X10sZmlsZQ%3D%3D?line=0'>1</a>\u001b[0m \u001b[39mtry\u001b[39;00m:\n\u001b[1;32m----> <a href='vscode-notebook-cell:/d%3A/Projects/chicken-disease-classification/research/01_data_ingestion.ipynb#X10sZmlsZQ%3D%3D?line=1'>2</a>\u001b[0m     config \u001b[39m=\u001b[39m ConfiguratonManager()\n\u001b[0;32m      <a href='vscode-notebook-cell:/d%3A/Projects/chicken-disease-classification/research/01_data_ingestion.ipynb#X10sZmlsZQ%3D%3D?line=2'>3</a>\u001b[0m     data_ingestiom_config \u001b[39m=\u001b[39m config\u001b[39m.\u001b[39mget_data_ingestion_config()\n\u001b[0;32m      <a href='vscode-notebook-cell:/d%3A/Projects/chicken-disease-classification/research/01_data_ingestion.ipynb#X10sZmlsZQ%3D%3D?line=3'>4</a>\u001b[0m     data_ingestion \u001b[39m=\u001b[39m DataIngestion(config\u001b[39m=\u001b[39mdata_ingestiom_config)\n",
      "\u001b[1;32md:\\Projects\\chicken-disease-classification\\research\\01_data_ingestion.ipynb Cell 7\u001b[0m line \u001b[0;36m1\n\u001b[0;32m      <a href='vscode-notebook-cell:/d%3A/Projects/chicken-disease-classification/research/01_data_ingestion.ipynb#X10sZmlsZQ%3D%3D?line=8'>9</a>\u001b[0m \u001b[39mprint\u001b[39m(\u001b[39mf\u001b[39m\u001b[39m\"\u001b[39m\u001b[39mParams File Path: \u001b[39m\u001b[39m{\u001b[39;00mparams_filepath\u001b[39m}\u001b[39;00m\u001b[39m with dtype \u001b[39m\u001b[39m{\u001b[39;00m\u001b[39mtype\u001b[39m(params_filepath)\u001b[39m}\u001b[39;00m\u001b[39m\"\u001b[39m)\n\u001b[0;32m     <a href='vscode-notebook-cell:/d%3A/Projects/chicken-disease-classification/research/01_data_ingestion.ipynb#X10sZmlsZQ%3D%3D?line=9'>10</a>\u001b[0m \u001b[39mself\u001b[39m\u001b[39m.\u001b[39mconfig \u001b[39m=\u001b[39m read_yaml(config_filepath)\n\u001b[1;32m---> <a href='vscode-notebook-cell:/d%3A/Projects/chicken-disease-classification/research/01_data_ingestion.ipynb#X10sZmlsZQ%3D%3D?line=10'>11</a>\u001b[0m \u001b[39mself\u001b[39m\u001b[39m.\u001b[39mparams \u001b[39m=\u001b[39m read_yaml(params_filepath)\n\u001b[0;32m     <a href='vscode-notebook-cell:/d%3A/Projects/chicken-disease-classification/research/01_data_ingestion.ipynb#X10sZmlsZQ%3D%3D?line=13'>14</a>\u001b[0m create_directories([\u001b[39mself\u001b[39m\u001b[39m.\u001b[39mconfig\u001b[39m.\u001b[39martifacts_root])\n",
      "File \u001b[1;32md:\\Projects\\chicken-disease-classification\\env\\Lib\\site-packages\\ensure\\main.py:849\u001b[0m, in \u001b[0;36mWrappedFunctionReturn.__call__\u001b[1;34m(self, *args, **kwargs)\u001b[0m\n\u001b[0;32m    841\u001b[0m         msg \u001b[39m=\u001b[39m (\n\u001b[0;32m    842\u001b[0m             \u001b[39m\"\u001b[39m\u001b[39mArgument \u001b[39m\u001b[39m{arg}\u001b[39;00m\u001b[39m of type \u001b[39m\u001b[39m{valt}\u001b[39;00m\u001b[39m to \u001b[39m\u001b[39m{f}\u001b[39;00m\u001b[39m \u001b[39m\u001b[39m\"\u001b[39m\n\u001b[0;32m    843\u001b[0m             \u001b[39m\"\u001b[39m\u001b[39mdoes not match annotation type \u001b[39m\u001b[39m{t}\u001b[39;00m\u001b[39m\"\u001b[39m\n\u001b[0;32m    844\u001b[0m         )\n\u001b[0;32m    845\u001b[0m         \u001b[39mraise\u001b[39;00m EnsureError(msg\u001b[39m.\u001b[39mformat(\n\u001b[0;32m    846\u001b[0m             arg\u001b[39m=\u001b[39marg, f\u001b[39m=\u001b[39m\u001b[39mself\u001b[39m\u001b[39m.\u001b[39mf, t\u001b[39m=\u001b[39mtempl, valt\u001b[39m=\u001b[39m\u001b[39mtype\u001b[39m(value)\n\u001b[0;32m    847\u001b[0m         ))\n\u001b[1;32m--> 849\u001b[0m return_val \u001b[39m=\u001b[39m \u001b[39mself\u001b[39;49m\u001b[39m.\u001b[39;49mf(\u001b[39m*\u001b[39;49margs, \u001b[39m*\u001b[39;49m\u001b[39m*\u001b[39;49mkwargs)\n\u001b[0;32m    850\u001b[0m \u001b[39mif\u001b[39;00m \u001b[39mnot\u001b[39;00m \u001b[39misinstance\u001b[39m(return_val, \u001b[39mself\u001b[39m\u001b[39m.\u001b[39mreturn_templ):\n\u001b[0;32m    851\u001b[0m     msg \u001b[39m=\u001b[39m (\n\u001b[0;32m    852\u001b[0m         \u001b[39m\"\u001b[39m\u001b[39mReturn value of \u001b[39m\u001b[39m{f}\u001b[39;00m\u001b[39m of type \u001b[39m\u001b[39m{valt}\u001b[39;00m\u001b[39m \u001b[39m\u001b[39m\"\u001b[39m\n\u001b[0;32m    853\u001b[0m         \u001b[39m\"\u001b[39m\u001b[39mdoes not match annotation type \u001b[39m\u001b[39m{t}\u001b[39;00m\u001b[39m\"\u001b[39m\n\u001b[0;32m    854\u001b[0m     )\n",
      "File \u001b[1;32md:\\projects\\chicken-disease-classification\\src\\cnnClassifier\\utils\\common.py:46\u001b[0m, in \u001b[0;36mread_yaml\u001b[1;34m(path_to_yaml)\u001b[0m\n\u001b[0;32m     44\u001b[0m         \u001b[39mreturn\u001b[39;00m config\n\u001b[0;32m     45\u001b[0m \u001b[39mexcept\u001b[39;00m BoxValueError \u001b[39mas\u001b[39;00m exc:\n\u001b[1;32m---> 46\u001b[0m     \u001b[39mraise\u001b[39;00m \u001b[39mValueError\u001b[39;00m(\u001b[39m'\u001b[39m\u001b[39mEmpty yaml file\u001b[39m\u001b[39m'\u001b[39m) \u001b[39mfrom\u001b[39;00m \u001b[39mexc\u001b[39;00m\n\u001b[0;32m     47\u001b[0m \u001b[39mexcept\u001b[39;00m \u001b[39mException\u001b[39;00m \u001b[39mas\u001b[39;00m ex:\n\u001b[0;32m     48\u001b[0m     \u001b[39mraise\u001b[39;00m ex\n",
      "\u001b[1;31mValueError\u001b[0m: Empty yaml file"
     ]
    }
   ],
   "source": [
    "try:\n",
    "    config = ConfiguratonManager()\n",
    "    data_ingestiom_config = config.get_data_ingestion_config()\n",
    "    data_ingestion = DataIngestion(config=data_ingestiom_config)\n",
    "    data_ingestion.download_file()\n",
    "    data_ingestion.extract_zip_file()\n",
    "except Exception as e:\n",
    "    logger.exception(e)\n",
    "    raise e\n",
    "    "
   ]
  },
  {
   "cell_type": "code",
   "execution_count": null,
   "metadata": {},
   "outputs": [],
   "source": []
  },
  {
   "cell_type": "code",
   "execution_count": null,
   "metadata": {},
   "outputs": [],
   "source": []
  }
 ],
 "metadata": {
  "kernelspec": {
   "display_name": "env",
   "language": "python",
   "name": "python3"
  },
  "language_info": {
   "codemirror_mode": {
    "name": "ipython",
    "version": 3
   },
   "file_extension": ".py",
   "mimetype": "text/x-python",
   "name": "python",
   "nbconvert_exporter": "python",
   "pygments_lexer": "ipython3",
   "version": "3.11.4"
  },
  "orig_nbformat": 4
 },
 "nbformat": 4,
 "nbformat_minor": 2
}
