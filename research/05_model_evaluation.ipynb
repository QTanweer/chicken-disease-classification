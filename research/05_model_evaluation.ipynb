{
 "cells": [
  {
   "cell_type": "code",
   "execution_count": 15,
   "metadata": {
    "execution": {
     "iopub.execute_input": "2023-09-25T06:44:00.939248Z",
     "iopub.status.busy": "2023-09-25T06:44:00.938865Z",
     "iopub.status.idle": "2023-09-25T06:44:00.944475Z",
     "shell.execute_reply": "2023-09-25T06:44:00.943723Z",
     "shell.execute_reply.started": "2023-09-25T06:44:00.939224Z"
    },
    "tags": []
   },
   "outputs": [
    {
     "data": {
      "text/plain": [
       "'/home/jovyan/workspace/chicken-disease-classification'"
      ]
     },
     "execution_count": 15,
     "metadata": {},
     "output_type": "execute_result"
    }
   ],
   "source": [
    "%pwd"
   ]
  },
  {
   "cell_type": "code",
   "execution_count": 2,
   "metadata": {
    "execution": {
     "iopub.execute_input": "2023-09-25T05:52:30.366677Z",
     "iopub.status.busy": "2023-09-25T05:52:30.366322Z",
     "iopub.status.idle": "2023-09-25T05:52:30.370303Z",
     "shell.execute_reply": "2023-09-25T05:52:30.369521Z",
     "shell.execute_reply.started": "2023-09-25T05:52:30.366655Z"
    },
    "tags": []
   },
   "outputs": [],
   "source": [
    "import os\n",
    "os.chdir('../')"
   ]
  },
  {
   "cell_type": "code",
   "execution_count": 3,
   "metadata": {
    "execution": {
     "iopub.execute_input": "2023-09-25T05:52:32.284292Z",
     "iopub.status.busy": "2023-09-25T05:52:32.283940Z",
     "iopub.status.idle": "2023-09-25T05:52:32.289019Z",
     "shell.execute_reply": "2023-09-25T05:52:32.288394Z",
     "shell.execute_reply.started": "2023-09-25T05:52:32.284268Z"
    },
    "tags": []
   },
   "outputs": [
    {
     "data": {
      "text/plain": [
       "'/home/jovyan/workspace/chicken-disease-classification'"
      ]
     },
     "execution_count": 3,
     "metadata": {},
     "output_type": "execute_result"
    }
   ],
   "source": [
    "%pwd"
   ]
  },
  {
   "cell_type": "markdown",
   "metadata": {},
   "source": [
    "## Entities "
   ]
  },
  {
   "cell_type": "code",
   "execution_count": 16,
   "metadata": {
    "execution": {
     "iopub.execute_input": "2023-09-25T06:44:04.235770Z",
     "iopub.status.busy": "2023-09-25T06:44:04.235401Z",
     "iopub.status.idle": "2023-09-25T06:44:04.239147Z",
     "shell.execute_reply": "2023-09-25T06:44:04.238497Z",
     "shell.execute_reply.started": "2023-09-25T06:44:04.235746Z"
    },
    "tags": []
   },
   "outputs": [],
   "source": [
    "from dataclasses import dataclass\n",
    "from pathlib import Path"
   ]
  },
  {
   "cell_type": "code",
   "execution_count": 17,
   "metadata": {
    "execution": {
     "iopub.execute_input": "2023-09-25T06:44:04.656084Z",
     "iopub.status.busy": "2023-09-25T06:44:04.655705Z",
     "iopub.status.idle": "2023-09-25T06:44:04.662048Z",
     "shell.execute_reply": "2023-09-25T06:44:04.661356Z",
     "shell.execute_reply.started": "2023-09-25T06:44:04.656061Z"
    },
    "tags": []
   },
   "outputs": [],
   "source": [
    "@dataclass(frozen=True)\n",
    "class TrainingConfig:\n",
    "    root_dir: Path\n",
    "    trained_model_path: Path\n",
    "    updated_base_model_path: Path\n",
    "    training_data: Path\n",
    "    params_epochs: int\n",
    "    params_batch_size: int\n",
    "    params_is_augmentation: bool\n",
    "    params_image_size: list\n",
    "\n",
    "@dataclass(frozen=True)\n",
    "class PrepareCallbacksConfig:\n",
    "    root_dir: Path\n",
    "    tensorboard_root_log_dir: Path\n",
    "    checkpoint_model_filepath: Path"
   ]
  },
  {
   "cell_type": "markdown",
   "metadata": {},
   "source": [
    "## configurtions manager in src/config"
   ]
  },
  {
   "cell_type": "code",
   "execution_count": 18,
   "metadata": {
    "execution": {
     "iopub.execute_input": "2023-09-25T06:44:05.685319Z",
     "iopub.status.busy": "2023-09-25T06:44:05.684919Z",
     "iopub.status.idle": "2023-09-25T06:44:05.688858Z",
     "shell.execute_reply": "2023-09-25T06:44:05.688196Z",
     "shell.execute_reply.started": "2023-09-25T06:44:05.685294Z"
    },
    "tags": []
   },
   "outputs": [],
   "source": [
    "from cnnClassifier.constants import CONFIG_FILE_PATH, PARAMS_FILE_PATH\n",
    "from cnnClassifier.utils.common import read_yaml, create_directories\n",
    "import tensorflow as tf"
   ]
  },
  {
   "cell_type": "code",
   "execution_count": 19,
   "metadata": {
    "execution": {
     "iopub.execute_input": "2023-09-25T06:44:06.424934Z",
     "iopub.status.busy": "2023-09-25T06:44:06.424556Z",
     "iopub.status.idle": "2023-09-25T06:44:06.432074Z",
     "shell.execute_reply": "2023-09-25T06:44:06.431447Z",
     "shell.execute_reply.started": "2023-09-25T06:44:06.424909Z"
    },
    "tags": []
   },
   "outputs": [],
   "source": [
    "class ConfigurationManager():\n",
    "    def __init__(\n",
    "            self,\n",
    "            config_filepath=CONFIG_FILE_PATH,\n",
    "            params_filepath = PARAMS_FILE_PATH\n",
    "    ):\n",
    "        print(\"Configuration Manager Initiated\")\n",
    "        self.config = read_yaml(config_filepath)\n",
    "        self.params = read_yaml(params_filepath)\n",
    "\n",
    "        create_directories([self.config.artifacts_root])\n",
    "\n",
    "    def get_prepare_callback_config(self) -> PrepareCallbacksConfig:\n",
    "        \n",
    "        create_directories([Path(self.config.prepare_callbacks.root_dir),\n",
    "                            Path(self.config.prepare_callbacks.tensorboard_root_log_dir),\n",
    "                            Path(self.config.prepare_callbacks.checkpoint_model_filepath)])\n",
    "        return PrepareCallbacksConfig(\n",
    "            root_dir = Path(self.config.prepare_callbacks.root_dir),\n",
    "            tensorboard_root_log_dir = Path(self.config.prepare_callbacks.tensorboard_root_log_dir),\n",
    "            checkpoint_model_filepath= Path(self.config.prepare_callbacks.checkpoint_model_filepath)\n",
    "        )\n",
    "    \n",
    "\n",
    "    def get_training_config(self) -> TrainingConfig:\n",
    "        training = self.config.training\n",
    "        prepare_base_model = self.config.prepare_base_model\n",
    "        params = self.params\n",
    "        training_data = self.config.data_ingestion.unzip_dir\n",
    "        create_directories([Path(training.root_dir)])\n",
    "\n",
    "        training_config = TrainingConfig(\n",
    "            root_dir=Path(training.root_dir),\n",
    "            trained_model_path=Path(training.trained_model_path),\n",
    "            updated_base_model_path=str(prepare_base_model.updated_base_model_path),\n",
    "            training_data=Path(training_data),\n",
    "            params_epochs=params.EPOCHS,\n",
    "            params_batch_size=params.BATCH_SIZE,\n",
    "            params_is_augmentation=params.AUGMENTATION,\n",
    "            params_image_size=params.IMAGE_SIZE\n",
    "        )\n",
    "\n",
    "        return training_config\n"
   ]
  },
  {
   "cell_type": "markdown",
   "metadata": {},
   "source": [
    "## Components"
   ]
  },
  {
   "cell_type": "code",
   "execution_count": 20,
   "metadata": {
    "execution": {
     "iopub.execute_input": "2023-09-25T06:44:07.525937Z",
     "iopub.status.busy": "2023-09-25T06:44:07.525562Z",
     "iopub.status.idle": "2023-09-25T06:44:07.529594Z",
     "shell.execute_reply": "2023-09-25T06:44:07.528941Z",
     "shell.execute_reply.started": "2023-09-25T06:44:07.525914Z"
    },
    "tags": []
   },
   "outputs": [],
   "source": [
    "import os\n",
    "import urllib.request as request\n",
    "from zipfile import ZipFile\n",
    "import tensorflow as tf # to call VGG16 from keras\n",
    "import time"
   ]
  },
  {
   "cell_type": "code",
   "execution_count": 21,
   "metadata": {
    "execution": {
     "iopub.execute_input": "2023-09-25T06:44:08.300328Z",
     "iopub.status.busy": "2023-09-25T06:44:08.299951Z",
     "iopub.status.idle": "2023-09-25T06:44:08.305604Z",
     "shell.execute_reply": "2023-09-25T06:44:08.304930Z",
     "shell.execute_reply.started": "2023-09-25T06:44:08.300304Z"
    },
    "tags": []
   },
   "outputs": [],
   "source": [
    "class PrepareCallback:\n",
    "    def __init__(self, config: PrepareCallbacksConfig):\n",
    "        self.config = config\n",
    "    \n",
    "    @property\n",
    "    def _create_tb_callbacks(self):\n",
    "        timestamp = time.strftime(\"%Y-%m-%d-%H-%M-%S\")\n",
    "        tb_running_log_dir = os.path.join(\n",
    "            self.config.tensorboard_root_log_dir,\n",
    "            f\"tb_logs_at_{timestamp}\"\n",
    "        )\n",
    "        return tf.keras.callbacks.TensorBoard(log_dir=tb_running_log_dir)\n",
    "    \n",
    "    @property\n",
    "    def _create_ckpt_callbacks(self):\n",
    "        return tf.keras.callbacks.ModelCheckpoint(\n",
    "            filepath=str(self.config.checkpoint_model_filepath),\n",
    "            save_best_only=True\n",
    "        )\n",
    "    \n",
    "    def get_tb_ckpt_callbacks(self):\n",
    "        return [\n",
    "            self._create_tb_callbacks,\n",
    "            self._create_ckpt_callbacks\n",
    "        ]\n",
    "    \n",
    "    "
   ]
  },
  {
   "cell_type": "code",
   "execution_count": 22,
   "metadata": {
    "execution": {
     "iopub.execute_input": "2023-09-25T06:44:09.244389Z",
     "iopub.status.busy": "2023-09-25T06:44:09.244009Z",
     "iopub.status.idle": "2023-09-25T06:44:09.253817Z",
     "shell.execute_reply": "2023-09-25T06:44:09.252931Z",
     "shell.execute_reply.started": "2023-09-25T06:44:09.244366Z"
    },
    "tags": []
   },
   "outputs": [],
   "source": [
    "class Training:\n",
    "    def __init__(self, config: TrainingConfig):\n",
    "        self.config = config\n",
    "        self.model = self.get_base_model()\n",
    "\n",
    "    def get_base_model(self):\n",
    "        model = tf.keras.models.load_model(\n",
    "            self.config.updated_base_model_path\n",
    "        )\n",
    "        model.compile(optimizer='adam',\n",
    "                        loss='categorical_crossentropy'\n",
    "                        ,metrics=['accuracy'])\n",
    "        return model\n",
    "\n",
    "\n",
    "    def train_valid_generator(self):\n",
    "        datagenerator_kwargs = dict(\n",
    "            rescale=1./255,\n",
    "            validation_split=.20\n",
    "        )\n",
    "\n",
    "        dataflow_kwargs = dict(\n",
    "            target_size=self.config.params_image_size[:-1],\n",
    "            batch_size=self.config.params_batch_size,\n",
    "            interpolation=\"bilinear\"\n",
    "        )\n",
    "\n",
    "        valid_datagenerator = tf.keras.preprocessing.image.ImageDataGenerator(\n",
    "            **datagenerator_kwargs\n",
    "        )\n",
    "\n",
    "        self.valid_generator = valid_datagenerator.flow_from_directory(\n",
    "            directory=self.config.training_data,\n",
    "            subset=\"validation\",\n",
    "            shuffle=False,\n",
    "            **dataflow_kwargs\n",
    "        )\n",
    "\n",
    "        if self.config.params_is_augmentation:\n",
    "            train_datagenerator = tf.keras.preprocessing.image.ImageDataGenerator(\n",
    "                rotation_range=40,\n",
    "                horizontal_flip=True,\n",
    "                width_shift_range=0.2,\n",
    "                height_shift_range=0.2,\n",
    "                shear_range=0.2,\n",
    "                zoom_range=0.2,\n",
    "                **datagenerator_kwargs\n",
    "            )\n",
    "        else:\n",
    "            train_datagenerator = valid_datagenerator\n",
    "\n",
    "        self.train_generator = train_datagenerator.flow_from_directory(\n",
    "            directory=self.config.training_data,\n",
    "            subset=\"training\",\n",
    "            shuffle=True,\n",
    "            **dataflow_kwargs\n",
    "        )\n",
    "\n",
    "    @staticmethod\n",
    "    def save_model(path: Path, model: tf.keras.models.Model):\n",
    "        model.save(path)\n",
    "\n",
    "    def train(self, callback_list: list):\n",
    "        self.steps_per_epoch = self.train_generator.samples // self.train_generator.batch_size\n",
    "        self.validation_steps = self.valid_generator.samples // self.valid_generator.batch_size\n",
    "\n",
    "        self.model.fit(\n",
    "            self.train_generator,\n",
    "            epochs=self.config.params_epochs,\n",
    "            steps_per_epoch=self.steps_per_epoch,\n",
    "            validation_steps=self.validation_steps,\n",
    "            validation_data=self.valid_generator,\n",
    "            callbacks=callback_list\n",
    "        )\n",
    "\n",
    "        self.save_model(\n",
    "            path=self.config.trained_model_path,\n",
    "            model=self.model\n",
    "        )\n"
   ]
  },
  {
   "cell_type": "markdown",
   "metadata": {},
   "source": [
    "## Pipeline"
   ]
  },
  {
   "cell_type": "code",
   "execution_count": 23,
   "metadata": {
    "execution": {
     "iopub.execute_input": "2023-09-25T06:44:10.914284Z",
     "iopub.status.busy": "2023-09-25T06:44:10.913876Z",
     "iopub.status.idle": "2023-09-25T06:44:26.885751Z",
     "shell.execute_reply": "2023-09-25T06:44:26.885082Z",
     "shell.execute_reply.started": "2023-09-25T06:44:10.914261Z"
    },
    "tags": []
   },
   "outputs": [
    {
     "name": "stdout",
     "output_type": "stream",
     "text": [
      "Configuration Manager Initiated\n",
      "[ 2023-09-25 06:44:10,919: INFO: common:  yaml file: config/config.yaml loaded successfully]\n",
      "[ 2023-09-25 06:44:10,921: INFO: common:  yaml file: params.yaml loaded successfully]\n",
      "[ 2023-09-25 06:44:10,922: INFO: common:  directory: artifacts created successfully]\n",
      "[ 2023-09-25 06:44:10,922: INFO: common:  directory: artifacts created successfully]\n",
      "[ 2023-09-25 06:44:10,923: INFO: common:  directory: artifacts/prepare_callbacks created successfully]\n",
      "[ 2023-09-25 06:44:10,924: INFO: common:  directory: artifacts/prepare_callbacks created successfully]\n",
      "[ 2023-09-25 06:44:10,925: INFO: common:  directory: artifacts/prepare_callbacks/tensorboard_log_dir created successfully]\n",
      "[ 2023-09-25 06:44:10,925: INFO: common:  directory: artifacts/prepare_callbacks/tensorboard_log_dir created successfully]\n",
      "[ 2023-09-25 06:44:10,926: INFO: common:  directory: artifacts/prepare_callbacks/checkpoint_dir created successfully]\n",
      "[ 2023-09-25 06:44:10,927: INFO: common:  directory: artifacts/prepare_callbacks/checkpoint_dir created successfully]\n",
      "[ 2023-09-25 06:44:10,928: INFO: common:  directory: artifacts/training created successfully]\n",
      "[ 2023-09-25 06:44:10,929: INFO: common:  directory: artifacts/training created successfully]\n"
     ]
    },
    {
     "name": "stderr",
     "output_type": "stream",
     "text": [
      "2023-09-25 06:44:11.011933: I tensorflow/stream_executor/cuda/cuda_gpu_executor.cc:975] successful NUMA node read from SysFS had negative value (-1), but there must be at least one NUMA node, so returning NUMA node zero\n",
      "2023-09-25 06:44:11.018234: I tensorflow/stream_executor/cuda/cuda_gpu_executor.cc:975] successful NUMA node read from SysFS had negative value (-1), but there must be at least one NUMA node, so returning NUMA node zero\n",
      "2023-09-25 06:44:11.018486: I tensorflow/stream_executor/cuda/cuda_gpu_executor.cc:975] successful NUMA node read from SysFS had negative value (-1), but there must be at least one NUMA node, so returning NUMA node zero\n",
      "2023-09-25 06:44:11.019022: I tensorflow/core/platform/cpu_feature_guard.cc:193] This TensorFlow binary is optimized with oneAPI Deep Neural Network Library (oneDNN) to use the following CPU instructions in performance-critical operations:  AVX2 AVX512F AVX512_VNNI FMA\n",
      "To enable them in other operations, rebuild TensorFlow with the appropriate compiler flags.\n",
      "2023-09-25 06:44:11.019377: I tensorflow/stream_executor/cuda/cuda_gpu_executor.cc:975] successful NUMA node read from SysFS had negative value (-1), but there must be at least one NUMA node, so returning NUMA node zero\n",
      "2023-09-25 06:44:11.019606: I tensorflow/stream_executor/cuda/cuda_gpu_executor.cc:975] successful NUMA node read from SysFS had negative value (-1), but there must be at least one NUMA node, so returning NUMA node zero\n",
      "2023-09-25 06:44:11.019786: I tensorflow/stream_executor/cuda/cuda_gpu_executor.cc:975] successful NUMA node read from SysFS had negative value (-1), but there must be at least one NUMA node, so returning NUMA node zero\n",
      "2023-09-25 06:44:11.649163: I tensorflow/stream_executor/cuda/cuda_gpu_executor.cc:975] successful NUMA node read from SysFS had negative value (-1), but there must be at least one NUMA node, so returning NUMA node zero\n",
      "2023-09-25 06:44:11.649411: I tensorflow/stream_executor/cuda/cuda_gpu_executor.cc:975] successful NUMA node read from SysFS had negative value (-1), but there must be at least one NUMA node, so returning NUMA node zero\n",
      "2023-09-25 06:44:11.649591: I tensorflow/stream_executor/cuda/cuda_gpu_executor.cc:975] successful NUMA node read from SysFS had negative value (-1), but there must be at least one NUMA node, so returning NUMA node zero\n",
      "2023-09-25 06:44:11.649748: I tensorflow/core/common_runtime/gpu/gpu_device.cc:1532] Created device /job:localhost/replica:0/task:0/device:GPU:0 with 13794 MB memory:  -> device: 0, name: Tesla T4, pci bus id: 0000:00:1e.0, compute capability: 7.5\n"
     ]
    },
    {
     "name": "stdout",
     "output_type": "stream",
     "text": [
      "[ 2023-09-25 06:44:12,150: WARNING: hdf5_format:  No training configuration found in the save file, so the model was *not* compiled. Compile it manually.]\n",
      "[ 2023-09-25 06:44:12,394: WARNING: hdf5_format:  No training configuration found in the save file, so the model was *not* compiled. Compile it manually.]\n",
      "Found 160 images belonging to 2 classes.\n",
      "Found 640 images belonging to 2 classes.\n"
     ]
    },
    {
     "name": "stderr",
     "output_type": "stream",
     "text": [
      "2023-09-25 06:44:14.103666: I tensorflow/stream_executor/cuda/cuda_dnn.cc:384] Loaded cuDNN version 8100\n",
      "2023-09-25 06:44:14.775345: I tensorflow/core/platform/default/subprocess.cc:304] Start cannot spawn child process: No such file or directory\n",
      "2023-09-25 06:44:14.775858: I tensorflow/core/platform/default/subprocess.cc:304] Start cannot spawn child process: No such file or directory\n",
      "2023-09-25 06:44:14.775891: W tensorflow/stream_executor/gpu/asm_compiler.cc:80] Couldn't get ptxas version string: INTERNAL: Couldn't invoke ptxas --version\n",
      "2023-09-25 06:44:14.776356: I tensorflow/core/platform/default/subprocess.cc:304] Start cannot spawn child process: No such file or directory\n",
      "2023-09-25 06:44:14.776423: W tensorflow/stream_executor/gpu/redzone_allocator.cc:314] INTERNAL: Failed to launch ptxas\n",
      "Relying on driver to perform ptx compilation. \n",
      "Modify $PATH to customize ptxas location.\n",
      "This message will be only logged once.\n"
     ]
    },
    {
     "name": "stdout",
     "output_type": "stream",
     "text": [
      "40/40 [==============================] - ETA: 0s - loss: 0.3189 - accuracy: 0.8687[ 2023-09-25 06:44:26,266: WARNING: save:  Found untraced functions such as _jit_compiled_convolution_op, _jit_compiled_convolution_op, _jit_compiled_convolution_op, _jit_compiled_convolution_op, _jit_compiled_convolution_op while saving (showing 5 of 13). These functions will not be directly callable after loading.]\n",
      "[ 2023-09-25 06:44:26,726: INFO: builder_impl:  Assets written to: artifacts/prepare_callbacks/checkpoint_dir/assets]\n",
      "40/40 [==============================] - 14s 255ms/step - loss: 0.3189 - accuracy: 0.8687 - val_loss: 0.2245 - val_accuracy: 0.9375\n"
     ]
    }
   ],
   "source": [
    "try:\n",
    "    config = ConfigurationManager()\n",
    "    prepare_callbacks_config = config.get_prepare_callback_config()\n",
    "    prepare_callbacks = PrepareCallback(config=prepare_callbacks_config)\n",
    "    callback_list = prepare_callbacks.get_tb_ckpt_callbacks()\n",
    "\n",
    "    training_config = config.get_training_config()\n",
    "    training = Training(config=training_config)\n",
    "    training.get_base_model()\n",
    "    training.train_valid_generator()\n",
    "    training.train(\n",
    "        callback_list=callback_list\n",
    "    )\n",
    "except Exception as e:\n",
    "    raise e\n"
   ]
  },
  {
   "cell_type": "code",
   "execution_count": null,
   "metadata": {},
   "outputs": [],
   "source": []
  }
 ],
 "metadata": {
  "kernelspec": {
   "display_name": "saturn (Python 3)",
   "language": "python",
   "name": "python3"
  },
  "language_info": {
   "codemirror_mode": {
    "name": "ipython",
    "version": 3
   },
   "file_extension": ".py",
   "mimetype": "text/x-python",
   "name": "python",
   "nbconvert_exporter": "python",
   "pygments_lexer": "ipython3",
   "version": "3.9.15"
  }
 },
 "nbformat": 4,
 "nbformat_minor": 4
}
