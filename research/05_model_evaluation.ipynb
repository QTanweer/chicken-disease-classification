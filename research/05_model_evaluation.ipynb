{
 "cells": [
  {
   "cell_type": "code",
   "execution_count": 1,
   "metadata": {
    "execution": {
     "iopub.execute_input": "2023-09-25T06:44:00.939248Z",
     "iopub.status.busy": "2023-09-25T06:44:00.938865Z",
     "iopub.status.idle": "2023-09-25T06:44:00.944475Z",
     "shell.execute_reply": "2023-09-25T06:44:00.943723Z",
     "shell.execute_reply.started": "2023-09-25T06:44:00.939224Z"
    },
    "tags": []
   },
   "outputs": [
    {
     "data": {
      "text/plain": [
       "'/workspaces/chicken-disease-classification/research'"
      ]
     },
     "execution_count": 1,
     "metadata": {},
     "output_type": "execute_result"
    }
   ],
   "source": [
    "%pwd"
   ]
  },
  {
   "cell_type": "code",
   "execution_count": 2,
   "metadata": {
    "execution": {
     "iopub.execute_input": "2023-09-25T05:52:30.366677Z",
     "iopub.status.busy": "2023-09-25T05:52:30.366322Z",
     "iopub.status.idle": "2023-09-25T05:52:30.370303Z",
     "shell.execute_reply": "2023-09-25T05:52:30.369521Z",
     "shell.execute_reply.started": "2023-09-25T05:52:30.366655Z"
    },
    "tags": []
   },
   "outputs": [],
   "source": [
    "import os\n",
    "os.chdir('../')"
   ]
  },
  {
   "cell_type": "code",
   "execution_count": 3,
   "metadata": {
    "execution": {
     "iopub.execute_input": "2023-09-25T05:52:32.284292Z",
     "iopub.status.busy": "2023-09-25T05:52:32.283940Z",
     "iopub.status.idle": "2023-09-25T05:52:32.289019Z",
     "shell.execute_reply": "2023-09-25T05:52:32.288394Z",
     "shell.execute_reply.started": "2023-09-25T05:52:32.284268Z"
    },
    "tags": []
   },
   "outputs": [
    {
     "data": {
      "text/plain": [
       "'/workspaces/chicken-disease-classification'"
      ]
     },
     "execution_count": 3,
     "metadata": {},
     "output_type": "execute_result"
    }
   ],
   "source": [
    "%pwd"
   ]
  },
  {
   "cell_type": "code",
   "execution_count": 4,
   "metadata": {},
   "outputs": [
    {
     "name": "stderr",
     "output_type": "stream",
     "text": [
      "2023-09-28 06:43:40.399115: I tensorflow/tsl/cuda/cudart_stub.cc:28] Could not find cuda drivers on your machine, GPU will not be used.\n",
      "2023-09-28 06:43:40.430329: I tensorflow/tsl/cuda/cudart_stub.cc:28] Could not find cuda drivers on your machine, GPU will not be used.\n",
      "2023-09-28 06:43:40.430811: I tensorflow/core/platform/cpu_feature_guard.cc:182] This TensorFlow binary is optimized to use available CPU instructions in performance-critical operations.\n",
      "To enable the following instructions: AVX2 FMA, in other operations, rebuild TensorFlow with the appropriate compiler flags.\n",
      "2023-09-28 06:43:41.255962: W tensorflow/compiler/tf2tensorrt/utils/py_utils.cc:38] TF-TRT Warning: Could not find TensorRT\n"
     ]
    }
   ],
   "source": [
    "import tensorflow as tf"
   ]
  },
  {
   "cell_type": "code",
   "execution_count": 5,
   "metadata": {},
   "outputs": [],
   "source": [
    "model = tf.keras.models.load_model(\"artifacts/training/model.keras\")"
   ]
  },
  {
   "cell_type": "markdown",
   "metadata": {},
   "source": [
    "## Entities "
   ]
  },
  {
   "cell_type": "code",
   "execution_count": 6,
   "metadata": {
    "execution": {
     "iopub.execute_input": "2023-09-25T06:44:04.235770Z",
     "iopub.status.busy": "2023-09-25T06:44:04.235401Z",
     "iopub.status.idle": "2023-09-25T06:44:04.239147Z",
     "shell.execute_reply": "2023-09-25T06:44:04.238497Z",
     "shell.execute_reply.started": "2023-09-25T06:44:04.235746Z"
    },
    "tags": []
   },
   "outputs": [],
   "source": [
    "from dataclasses import dataclass\n",
    "from pathlib import Path"
   ]
  },
  {
   "cell_type": "code",
   "execution_count": 7,
   "metadata": {
    "execution": {
     "iopub.execute_input": "2023-09-25T06:44:04.656084Z",
     "iopub.status.busy": "2023-09-25T06:44:04.655705Z",
     "iopub.status.idle": "2023-09-25T06:44:04.662048Z",
     "shell.execute_reply": "2023-09-25T06:44:04.661356Z",
     "shell.execute_reply.started": "2023-09-25T06:44:04.656061Z"
    },
    "tags": []
   },
   "outputs": [],
   "source": [
    "\n",
    "@dataclass(frozen=True)\n",
    "class EvaluationConfig:\n",
    "    path_of_model: Path\n",
    "    training_data: Path\n",
    "    params_batch_size: int\n",
    "    params_image_size: list\n",
    "    all_params: dict"
   ]
  },
  {
   "cell_type": "markdown",
   "metadata": {},
   "source": [
    "## configurtions manager in src/config"
   ]
  },
  {
   "cell_type": "code",
   "execution_count": 9,
   "metadata": {
    "execution": {
     "iopub.execute_input": "2023-09-25T06:44:05.685319Z",
     "iopub.status.busy": "2023-09-25T06:44:05.684919Z",
     "iopub.status.idle": "2023-09-25T06:44:05.688858Z",
     "shell.execute_reply": "2023-09-25T06:44:05.688196Z",
     "shell.execute_reply.started": "2023-09-25T06:44:05.685294Z"
    },
    "tags": []
   },
   "outputs": [],
   "source": [
    "from cnnClassifier.constants import CONFIG_FILE_PATH, PARAMS_FILE_PATH\n",
    "from cnnClassifier.utils.common import read_yaml, create_directories, save_json\n",
    "import tensorflow as tf"
   ]
  },
  {
   "cell_type": "code",
   "execution_count": 10,
   "metadata": {
    "execution": {
     "iopub.execute_input": "2023-09-25T06:44:06.424934Z",
     "iopub.status.busy": "2023-09-25T06:44:06.424556Z",
     "iopub.status.idle": "2023-09-25T06:44:06.432074Z",
     "shell.execute_reply": "2023-09-25T06:44:06.431447Z",
     "shell.execute_reply.started": "2023-09-25T06:44:06.424909Z"
    },
    "tags": []
   },
   "outputs": [],
   "source": [
    "class ConfigurationManager():\n",
    "    def __init__(\n",
    "            self,\n",
    "            config_filepath=CONFIG_FILE_PATH,\n",
    "            params_filepath = PARAMS_FILE_PATH\n",
    "    ):\n",
    "        print(\"Configuration Manager Initiated\")\n",
    "        self.config = read_yaml(config_filepath)\n",
    "        self.params = read_yaml(params_filepath)\n",
    "\n",
    "        create_directories([self.config.artifacts_root])\n",
    "\n",
    "    def get_validation_config(self) -> EvaluationConfig:\n",
    "        eval_config = EvaluationConfig(\n",
    "            path_of_model=Path(\"artifacts/training/model.keras\"),\n",
    "            training_data=Path(\"artifacts/data_ingestion/Chicken-Disease-Dataset\"),\n",
    "            params_batch_size=self.params.BATCH_SIZE,\n",
    "            params_image_size=self.params.IMAGE_SIZE,\n",
    "            all_params=self.params\n",
    "        )\n",
    "        return eval_config\n"
   ]
  },
  {
   "cell_type": "markdown",
   "metadata": {},
   "source": [
    "## Components"
   ]
  },
  {
   "cell_type": "code",
   "execution_count": 11,
   "metadata": {
    "execution": {
     "iopub.execute_input": "2023-09-25T06:44:07.525937Z",
     "iopub.status.busy": "2023-09-25T06:44:07.525562Z",
     "iopub.status.idle": "2023-09-25T06:44:07.529594Z",
     "shell.execute_reply": "2023-09-25T06:44:07.528941Z",
     "shell.execute_reply.started": "2023-09-25T06:44:07.525914Z"
    },
    "tags": []
   },
   "outputs": [],
   "source": [
    "from urllib.parse import urlparse"
   ]
  },
  {
   "cell_type": "markdown",
   "metadata": {},
   "source": []
  },
  {
   "cell_type": "code",
   "execution_count": 15,
   "metadata": {},
   "outputs": [],
   "source": [
    "class Evaluation:\n",
    "    def __init__(self, config: EvaluationConfig):\n",
    "        self.config = config\n",
    "    \n",
    "    def _valid_generator(self):\n",
    "\n",
    "        datagenerator_kwargs = dict(\n",
    "            rescale=1./255,\n",
    "            validation_split=.30\n",
    "        )\n",
    "\n",
    "        dataflow_kwargs = dict(\n",
    "            target_size=self.config.params_image_size[:-1],\n",
    "            batch_size=self.config.params_batch_size,\n",
    "            interpolation=\"bilinear\"\n",
    "        )\n",
    "\n",
    "        valid_datagenerator = tf.keras.preprocessing.image.ImageDataGenerator(\n",
    "            **datagenerator_kwargs\n",
    "        )\n",
    "\n",
    "        self.valid_generator = valid_datagenerator.flow_from_directory(\n",
    "            directory=self.config.training_data,\n",
    "            subset=\"validation\",\n",
    "            shuffle=False,\n",
    "            **dataflow_kwargs\n",
    "        )\n",
    "    \n",
    "    @staticmethod\n",
    "    def load_model(path_of_model : Path):\n",
    "        return tf.keras.models.load_model(path_of_model)\n",
    "    \n",
    "    def evaluation(self):\n",
    "        self.model = self.load_model(self.config.path_of_model)\n",
    "        self._valid_generator()\n",
    "        self.score = model.evaluate(self.valid_generator, verbose=1)\n",
    "\n",
    "    def save_score(self):\n",
    "        scores = {\n",
    "            \"loss\" : self.score[0],\n",
    "            \"accuracy\" : self.score[1]\n",
    "            }\n",
    "        save_json(path=Path(\"scores.json\"), data=scores)\n"
   ]
  },
  {
   "cell_type": "markdown",
   "metadata": {},
   "source": [
    "## Pipeline"
   ]
  },
  {
   "cell_type": "code",
   "execution_count": 16,
   "metadata": {
    "execution": {
     "iopub.execute_input": "2023-09-25T06:44:10.914284Z",
     "iopub.status.busy": "2023-09-25T06:44:10.913876Z",
     "iopub.status.idle": "2023-09-25T06:44:26.885751Z",
     "shell.execute_reply": "2023-09-25T06:44:26.885082Z",
     "shell.execute_reply.started": "2023-09-25T06:44:10.914261Z"
    },
    "tags": []
   },
   "outputs": [
    {
     "name": "stdout",
     "output_type": "stream",
     "text": [
      "Configuration Manager Initiated\n",
      "[ 2023-09-28 07:06:40,889: INFO: common:  yaml file: config/config.yaml loaded successfully]\n",
      "[ 2023-09-28 07:06:40,891: INFO: common:  yaml file: params.yaml loaded successfully]\n",
      "[ 2023-09-28 07:06:40,892: INFO: common:  directory: artifacts created successfully]\n",
      "[ 2023-09-28 07:06:40,893: INFO: common:  directory: artifacts created successfully]\n",
      "Found 240 images belonging to 2 classes.\n",
      "15/15 [==============================] - 41s 3s/step - loss: 0.1969 - accuracy: 0.9583\n",
      "[ 2023-09-28 07:07:23,566: INFO: common:  json file: scores.json saved successfully]\n"
     ]
    }
   ],
   "source": [
    "try:\n",
    "    config = ConfigurationManager()\n",
    "    val_config = config.get_validation_config()\n",
    "    evaluation = Evaluation(config=val_config)\n",
    "    evaluation.evaluation()\n",
    "    evaluation.save_score()\n",
    "    \n",
    "except Exception as e:\n",
    "    raise e\n"
   ]
  }
 ],
 "metadata": {
  "kernelspec": {
   "display_name": "saturn (Python 3)",
   "language": "python",
   "name": "python3"
  },
  "language_info": {
   "codemirror_mode": {
    "name": "ipython",
    "version": 3
   },
   "file_extension": ".py",
   "mimetype": "text/x-python",
   "name": "python",
   "nbconvert_exporter": "python",
   "pygments_lexer": "ipython3",
   "version": "3.10.8"
  }
 },
 "nbformat": 4,
 "nbformat_minor": 4
}
